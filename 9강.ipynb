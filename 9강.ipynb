{
  "nbformat": 4,
  "nbformat_minor": 0,
  "metadata": {
    "colab": {
      "name": "9강.ipynb",
      "provenance": [],
      "authorship_tag": "ABX9TyM74W51W7idtB0DX8vltWlx",
      "include_colab_link": true
    },
    "kernelspec": {
      "name": "python3",
      "display_name": "Python 3"
    }
  },
  "cells": [
    {
      "cell_type": "markdown",
      "metadata": {
        "id": "view-in-github",
        "colab_type": "text"
      },
      "source": [
        "<a href=\"https://colab.research.google.com/github/junghyeonsu/python-machineLearning-youtube/blob/master/9%EA%B0%95.ipynb\" target=\"_parent\"><img src=\"https://colab.research.google.com/assets/colab-badge.svg\" alt=\"Open In Colab\"/></a>"
      ]
    },
    {
      "cell_type": "markdown",
      "metadata": {
        "id": "HmbwlSkG8d1A",
        "colab_type": "text"
      },
      "source": [
        "**multi-variable linear regression**"
      ]
    },
    {
      "cell_type": "code",
      "metadata": {
        "id": "QxmJ6A1C7TH8",
        "colab_type": "code",
        "colab": {}
      },
      "source": [
        "import tensorflow.compat.v1 as tf\n",
        "tf.disable_resource_variables()"
      ],
      "execution_count": 0,
      "outputs": []
    },
    {
      "cell_type": "markdown",
      "metadata": {
        "id": "iOhgms4v8msA",
        "colab_type": "text"
      },
      "source": [
        "데이터들 입력하기"
      ]
    },
    {
      "cell_type": "code",
      "metadata": {
        "id": "DbgQoIsI7ua9",
        "colab_type": "code",
        "colab": {}
      },
      "source": [
        "x1_data = [73., 93., 89., 96., 73.]\n",
        "x2_data = [80., 88., 91., 98., 66.]\n",
        "x3_data = [75., 93., 90., 100., 70.]\n",
        "y_data = [152., 185., 189., 196., 142.]"
      ],
      "execution_count": 0,
      "outputs": []
    },
    {
      "cell_type": "markdown",
      "metadata": {
        "id": "8oiOkUUX8ph-",
        "colab_type": "text"
      },
      "source": [
        "텐서프롤우 플레이스 홀더로 값 지정해주기"
      ]
    },
    {
      "cell_type": "code",
      "metadata": {
        "id": "ONjTvwww8Dm_",
        "colab_type": "code",
        "colab": {}
      },
      "source": [
        "x1 = tf.placeholder(tf.float32)\n",
        "x2 = tf.placeholder(tf.float32)\n",
        "x3 = tf.placeholder(tf.float32)\n",
        "\n",
        "Y = tf.placeholder(tf.float32)"
      ],
      "execution_count": 0,
      "outputs": []
    },
    {
      "cell_type": "code",
      "metadata": {
        "id": "46SKhDFZ8NwF",
        "colab_type": "code",
        "colab": {}
      },
      "source": [
        "w1 = tf.Variable(tf.random_normal([1]), name='weight1')\n",
        "w2 = tf.Variable(tf.random_normal([1]), name='weight1')\n",
        "w3 = tf.Variable(tf.random_normal([1]), name='weight1')\n",
        "b = tf.Variable(tf.random_normal([1]), name='bias')"
      ],
      "execution_count": 0,
      "outputs": []
    },
    {
      "cell_type": "markdown",
      "metadata": {
        "id": "liAAw8CW8u0Y",
        "colab_type": "text"
      },
      "source": [
        "가설 세우기"
      ]
    },
    {
      "cell_type": "code",
      "metadata": {
        "id": "Q1zhrXfv8YDW",
        "colab_type": "code",
        "colab": {}
      },
      "source": [
        "hypothesis = x1 * w1 + x2 * w2 + x3 * w3 + b"
      ],
      "execution_count": 0,
      "outputs": []
    },
    {
      "cell_type": "markdown",
      "metadata": {
        "id": "No9oLO1r9H4O",
        "colab_type": "text"
      },
      "source": [
        "cost/loss function 세우기"
      ]
    },
    {
      "cell_type": "code",
      "metadata": {
        "id": "WePgFO5B82H2",
        "colab_type": "code",
        "colab": {}
      },
      "source": [
        "cost = tf.reduce_mean(tf.square(hypothesis - Y))"
      ],
      "execution_count": 0,
      "outputs": []
    },
    {
      "cell_type": "markdown",
      "metadata": {
        "id": "3B96IjH69LA4",
        "colab_type": "text"
      },
      "source": [
        "Minimize. 매우 작은 learning_rate 를 입력한다."
      ]
    },
    {
      "cell_type": "code",
      "metadata": {
        "id": "eM9lwQeP8_KQ",
        "colab_type": "code",
        "colab": {}
      },
      "source": [
        "optimizer = tf.train.GradientDescentOptimizer(learning_rate=1e-5)\n",
        "train = optimizer.minimize(cost)"
      ],
      "execution_count": 0,
      "outputs": []
    },
    {
      "cell_type": "markdown",
      "metadata": {
        "id": "rcVmSHqs-LFP",
        "colab_type": "text"
      },
      "source": [
        "세션에 그래프를 설치하자!\n",
        "\n",
        "그리고 그래프에 global variables 를 초기화 해준다."
      ]
    },
    {
      "cell_type": "code",
      "metadata": {
        "id": "___a2pWV9UVa",
        "colab_type": "code",
        "colab": {
          "base_uri": "https://localhost:8080/",
          "height": 1000
        },
        "outputId": "aec7fda3-6345-49bf-b4a4-24890a92c766"
      },
      "source": [
        "sess = tf.Session()\n",
        "\n",
        "sess.run(tf.global_variables_initializer())\n",
        "\n",
        "for step in range(2001):\n",
        "  cost_val, hy_val, _ = sess.run([cost,hypothesis, train], feed_dict={x1: x1_data, x2:x2_data, x3: x3_data , Y: y_data})\n",
        "\n",
        "  if step % 100 == 0:\n",
        "    print(\"Step :\", step, \"\\nCost: \", cost_val, \"\\nPrediction:\", hy_val)\n",
        "    print('\\n')"
      ],
      "execution_count": 19,
      "outputs": [
        {
          "output_type": "stream",
          "text": [
            "Step : 0 \n",
            "Cost:  168829.47 \n",
            "Prediction: [-216.46434 -248.10051 -250.80986 -272.19525 -186.88553]\n",
            "\n",
            "\n",
            "Step : 100 \n",
            "Cost:  26.78128 \n",
            "Prediction: [148.2477  189.95488 180.9709  197.97816 147.18616]\n",
            "\n",
            "\n",
            "Step : 200 \n",
            "Cost:  25.937616 \n",
            "Prediction: [148.40347 189.84877 181.01953 198.00658 147.05255]\n",
            "\n",
            "\n",
            "Step : 300 \n",
            "Cost:  25.138002 \n",
            "Prediction: [148.55513 189.74545 181.06691 198.0341  146.9226 ]\n",
            "\n",
            "\n",
            "Step : 400 \n",
            "Cost:  24.380249 \n",
            "Prediction: [148.70284 189.6449  181.11305 198.0608  146.79625]\n",
            "\n",
            "\n",
            "Step : 500 \n",
            "Cost:  23.66185 \n",
            "Prediction: [148.84665 189.54695 181.158   198.08662 146.67332]\n",
            "\n",
            "\n",
            "Step : 600 \n",
            "Cost:  22.980837 \n",
            "Prediction: [148.98671 189.45161 181.20183 198.11162 146.55379]\n",
            "\n",
            "\n",
            "Step : 700 \n",
            "Cost:  22.335482 \n",
            "Prediction: [149.1231  189.35881 181.24449 198.13582 146.43756]\n",
            "\n",
            "\n",
            "Step : 800 \n",
            "Cost:  21.723537 \n",
            "Prediction: [149.25589 189.26842 181.28609 198.15924 146.32451]\n",
            "\n",
            "\n",
            "Step : 900 \n",
            "Cost:  21.14358 \n",
            "Prediction: [149.38522 189.18044 181.32658 198.18192 146.21458]\n",
            "\n",
            "\n",
            "Step : 1000 \n",
            "Cost:  20.593683 \n",
            "Prediction: [149.51117 189.09476 181.36606 198.20386 146.10768]\n",
            "\n",
            "\n",
            "Step : 1100 \n",
            "Cost:  20.072365 \n",
            "Prediction: [149.6338  189.01134 181.40451 198.22505 146.00372]\n",
            "\n",
            "\n",
            "Step : 1200 \n",
            "Cost:  19.578053 \n",
            "Prediction: [149.75325 188.93011 181.442   198.24559 145.90263]\n",
            "\n",
            "\n",
            "Step : 1300 \n",
            "Cost:  19.109402 \n",
            "Prediction: [149.86958 188.85103 181.47852 198.26541 145.80435]\n",
            "\n",
            "\n",
            "Step : 1400 \n",
            "Cost:  18.664997 \n",
            "Prediction: [149.98286 188.77403 181.51411 198.28459 145.70877]\n",
            "\n",
            "\n",
            "Step : 1500 \n",
            "Cost:  18.243618 \n",
            "Prediction: [150.0932  188.69905 181.5488  198.30315 145.61584]\n",
            "\n",
            "\n",
            "Step : 1600 \n",
            "Cost:  17.844086 \n",
            "Prediction: [150.20064 188.62602 181.58257 198.32106 145.52548]\n",
            "\n",
            "\n",
            "Step : 1700 \n",
            "Cost:  17.465076 \n",
            "Prediction: [150.30531 188.55495 181.61552 198.33836 145.43764]\n",
            "\n",
            "\n",
            "Step : 1800 \n",
            "Cost:  17.105732 \n",
            "Prediction: [150.40723 188.48572 181.64761 198.35509 145.35223]\n",
            "\n",
            "\n",
            "Step : 1900 \n",
            "Cost:  16.764866 \n",
            "Prediction: [150.50652 188.41833 181.67891 198.37125 145.2692 ]\n",
            "\n",
            "\n",
            "Step : 2000 \n",
            "Cost:  16.441511 \n",
            "Prediction: [150.60318 188.35268 181.70938 198.3868  145.18843]\n",
            "\n",
            "\n"
          ],
          "name": "stdout"
        }
      ]
    },
    {
      "cell_type": "markdown",
      "metadata": {
        "id": "nyPEofmzAVnD",
        "colab_type": "text"
      },
      "source": [
        "위 방법은 데이터가 많아질수록 비효율적이다.\n",
        "\n",
        "그러므로 행렬로 코딩을 해보자!"
      ]
    },
    {
      "cell_type": "code",
      "metadata": {
        "id": "FDQBJ70vAZiA",
        "colab_type": "code",
        "colab": {}
      },
      "source": [
        "x_data = [[73., 80., 75.], [93., 88., 93.], [89., 91., 90.], [96., 98., 100.],[73., 66., 70]]\n",
        "y_data = [[152.], [185.], [180.], [196.], [142.]]\n",
        "\n",
        "X = tf.placeholder(tf.float32, shape=[None, 3]) #None은 데이터가 몇개냐? 근데 더 추가적으로 추가할수있으므로 None 으로 지정\n",
        "Y = tf.placeholder(tf.float32, shape=[None, 1]) #뒤에 매개변수는 x1 , x2 , x3 이므로 3개이다. Y는 결과값이 1이므로 1\n",
        "\n",
        "W = tf.Variable(tf.random_normal([3,1]), name='weight')\n",
        "b = tf.Variable(tf.random_normal([1]), name='bias')\n",
        "\n",
        "hypothesis = tf.matmul(X, W) + b"
      ],
      "execution_count": 0,
      "outputs": []
    },
    {
      "cell_type": "code",
      "metadata": {
        "id": "DqH7V4LvCbVY",
        "colab_type": "code",
        "colab": {
          "base_uri": "https://localhost:8080/",
          "height": 1000
        },
        "outputId": "08e6e7b6-0993-4ad6-8b9f-473187a5b518"
      },
      "source": [
        "cost = tf.reduce_mean(tf.square(hypothesis - Y))\n",
        "\n",
        "optimizer = tf.train.GradientDescentOptimizer(learning_rate=1e-5)\n",
        "train = optimizer.minimize(cost)\n",
        "\n",
        "sess = tf.Session()\n",
        "sess.run(tf.global_variables_initializer())\n",
        "\n",
        "for step in range(2001):\n",
        "  cost_val, hy_val, _ = sess.run( [cost, hypothesis, train], feed_dict={X:x_data, Y:y_data} )\n",
        "\n",
        "  if step % 100 == 0:\n",
        "    print(\"Step : \",step, \"\\nCost : \",cost_val, \"\\nPrediction : \", hy_val)\n",
        "    print('\\n')"
      ],
      "execution_count": 24,
      "outputs": [
        {
          "output_type": "stream",
          "text": [
            "Step :  0 \n",
            "Cost :  172202.34 \n",
            "Prediction :  [[-221.44322]\n",
            " [-254.14053]\n",
            " [-256.17554]\n",
            " [-283.96872]\n",
            " [-186.76796]]\n",
            "\n",
            "\n",
            "Step :  100 \n",
            "Cost :  27.269001 \n",
            "Prediction :  [[146.91083]\n",
            " [188.255  ]\n",
            " [179.89954]\n",
            " [190.89772]\n",
            " [150.5911 ]]\n",
            "\n",
            "\n",
            "Step :  200 \n",
            "Cost :  26.097992 \n",
            "Prediction :  [[147.08467]\n",
            " [188.1347 ]\n",
            " [179.95139]\n",
            " [190.94635]\n",
            " [150.42386]]\n",
            "\n",
            "\n",
            "Step :  300 \n",
            "Cost :  24.987593 \n",
            "Prediction :  [[147.25377]\n",
            " [188.01767]\n",
            " [180.00177]\n",
            " [190.99385]\n",
            " [150.26096]]\n",
            "\n",
            "\n",
            "Step :  400 \n",
            "Cost :  23.934536 \n",
            "Prediction :  [[147.41821]\n",
            " [187.90382]\n",
            " [180.05072]\n",
            " [191.04027]\n",
            " [150.10223]]\n",
            "\n",
            "\n",
            "Step :  500 \n",
            "Cost :  22.935755 \n",
            "Prediction :  [[147.57812]\n",
            " [187.79308]\n",
            " [180.09828]\n",
            " [191.08571]\n",
            " [149.94762]]\n",
            "\n",
            "\n",
            "Step :  600 \n",
            "Cost :  21.988455 \n",
            "Prediction :  [[147.73366]\n",
            " [187.68538]\n",
            " [180.14455]\n",
            " [191.13014]\n",
            " [149.79698]]\n",
            "\n",
            "\n",
            "Step :  700 \n",
            "Cost :  21.089869 \n",
            "Prediction :  [[147.88489]\n",
            " [187.58055]\n",
            " [180.18945]\n",
            " [191.1736 ]\n",
            " [149.65022]]\n",
            "\n",
            "\n",
            "Step :  800 \n",
            "Cost :  20.23756 \n",
            "Prediction :  [[148.032  ]\n",
            " [187.47865]\n",
            " [180.23312]\n",
            " [191.21613]\n",
            " [149.50728]]\n",
            "\n",
            "\n",
            "Step :  900 \n",
            "Cost :  19.428852 \n",
            "Prediction :  [[148.17499]\n",
            " [187.37947]\n",
            " [180.27553]\n",
            " [191.25769]\n",
            " [149.36792]]\n",
            "\n",
            "\n",
            "Step :  1000 \n",
            "Cost :  18.661667 \n",
            "Prediction :  [[148.31409]\n",
            " [187.28302]\n",
            " [180.31674]\n",
            " [191.2984 ]\n",
            " [149.23221]]\n",
            "\n",
            "\n",
            "Step :  1100 \n",
            "Cost :  17.933775 \n",
            "Prediction :  [[148.44931]\n",
            " [187.18921]\n",
            " [180.35677]\n",
            " [191.33818]\n",
            " [149.09993]]\n",
            "\n",
            "\n",
            "Step :  1200 \n",
            "Cost :  17.243107 \n",
            "Prediction :  [[148.58084]\n",
            " [187.09798]\n",
            " [180.39568]\n",
            " [191.37717]\n",
            " [148.9711 ]]\n",
            "\n",
            "\n",
            "Step :  1300 \n",
            "Cost :  16.587692 \n",
            "Prediction :  [[148.70871]\n",
            " [187.00926]\n",
            " [180.43347]\n",
            " [191.4153 ]\n",
            " [148.84554]]\n",
            "\n",
            "\n",
            "Step :  1400 \n",
            "Cost :  15.965601 \n",
            "Prediction :  [[148.83302]\n",
            " [186.9229 ]\n",
            " [180.47017]\n",
            " [191.4526 ]\n",
            " [148.72316]]\n",
            "\n",
            "\n",
            "Step :  1500 \n",
            "Cost :  15.375196 \n",
            "Prediction :  [[148.9539 ]\n",
            " [186.83896]\n",
            " [180.50578]\n",
            " [191.48912]\n",
            " [148.60391]]\n",
            "\n",
            "\n",
            "Step :  1600 \n",
            "Cost :  14.814756 \n",
            "Prediction :  [[149.07144]\n",
            " [186.7573 ]\n",
            " [180.54045]\n",
            " [191.5249 ]\n",
            " [148.48773]]\n",
            "\n",
            "\n",
            "Step :  1700 \n",
            "Cost :  14.282738 \n",
            "Prediction :  [[149.18573]\n",
            " [186.67789]\n",
            " [180.57408]\n",
            " [191.55992]\n",
            " [148.37451]]\n",
            "\n",
            "\n",
            "Step :  1800 \n",
            "Cost :  13.777582 \n",
            "Prediction :  [[149.29683]\n",
            " [186.60063]\n",
            " [180.60672]\n",
            " [191.5942 ]\n",
            " [148.26414]]\n",
            "\n",
            "\n",
            "Step :  1900 \n",
            "Cost :  13.29793 \n",
            "Prediction :  [[149.40485]\n",
            " [186.5255 ]\n",
            " [180.63844]\n",
            " [191.62778]\n",
            " [148.1566 ]]\n",
            "\n",
            "\n",
            "Step :  2000 \n",
            "Cost :  12.8424225 \n",
            "Prediction :  [[149.50986]\n",
            " [186.45244]\n",
            " [180.66925]\n",
            " [191.66066]\n",
            " [148.05177]]\n",
            "\n",
            "\n"
          ],
          "name": "stdout"
        }
      ]
    },
    {
      "cell_type": "markdown",
      "metadata": {
        "id": "qTfBo4QHDZau",
        "colab_type": "text"
      },
      "source": [
        "결과는 위에와 똑같이 나오게된다!\n",
        "\n",
        "데이터가 많으면 행렬을 쓰자!"
      ]
    }
  ]
}