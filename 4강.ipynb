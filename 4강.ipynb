{
  "nbformat": 4,
  "nbformat_minor": 0,
  "metadata": {
    "colab": {
      "name": "4강.ipynb",
      "provenance": [],
      "authorship_tag": "ABX9TyOdIWQYnlGoq8DBAGLtx1wc",
      "include_colab_link": true
    },
    "kernelspec": {
      "name": "python3",
      "display_name": "Python 3"
    }
  },
  "cells": [
    {
      "cell_type": "markdown",
      "metadata": {
        "id": "view-in-github",
        "colab_type": "text"
      },
      "source": [
        "<a href=\"https://colab.research.google.com/github/junghyeonsu/python-machineLearning-youtube/blob/master/4%EA%B0%95.ipynb\" target=\"_parent\"><img src=\"https://colab.research.google.com/assets/colab-badge.svg\" alt=\"Open In Colab\"/></a>"
      ]
    },
    {
      "cell_type": "markdown",
      "metadata": {
        "id": "lFH_IKNdTxPu",
        "colab_type": "text"
      },
      "source": [
        "작동을 위한 import"
      ]
    },
    {
      "cell_type": "code",
      "metadata": {
        "id": "1nvrr9YkTvPy",
        "colab_type": "code",
        "colab": {}
      },
      "source": [
        "import tensorflow.compat.v1 as tf\n",
        "tf.disable_resource_variables()"
      ],
      "execution_count": 0,
      "outputs": []
    },
    {
      "cell_type": "markdown",
      "metadata": {
        "id": "3lCjytcNbKhZ",
        "colab_type": "text"
      },
      "source": [
        "H(x) = Wx + b 구하기"
      ]
    },
    {
      "cell_type": "code",
      "metadata": {
        "id": "xu-OiU2warGo",
        "colab_type": "code",
        "colab": {}
      },
      "source": [
        "# x 와 y 데이터\n",
        "x_train = [1,2,3]\n",
        "y_train = [1,2,3]\n",
        "\n",
        "W = tf.Variable(tf.random_normal([1]), name='weight')\n",
        "b = tf.Variable(tf.random_normal([1]), name='bias')\n",
        "\n",
        "# H(x) = Wx + b\n",
        "hypothesis = x_train * W + b"
      ],
      "execution_count": 0,
      "outputs": []
    },
    {
      "cell_type": "markdown",
      "metadata": {
        "id": "b6XmWdIHcBiu",
        "colab_type": "text"
      },
      "source": [
        "![image.png](data:image/png;base64,iVBORw0KGgoAAAANSUhEUgAAAigAAABoCAYAAADbygvAAAAgAElEQVR4Ae3dCZxlRXU/8EEYVBYFTSTuS9zRaER0WAUFFVxiVDZRUJQYDEoU/aNhEWEGMChqFE0iDiouxB2VhLjFGGUTEZgBZN9lnxlA9pk5/8/3dp+emjv3vX6v+/Uy07f6U33vu7fWU1WnfnXOqbqzYo10yyJiaSxfXlRu2bKI4d9Llw/d3r8sYsnSiM9+5/rY87Az4y0fOy/ecsR58da5F8SecxfEW+YujD3mXriK333ugtht7gWr+nkLYrdOfpXw0lgYu829cOL8vAtjt569sjTUybNOderr+cI+ytJPuYfDVrRUh179BNJ9Itt0EtLefd6FUfd7zLsodp+3sNHvNndB7FqNCe+H4u5x1IWxx7xVvTT0s11rvux7K7+T9sI+vPCrpt/5Wb/p95O2sFNR9mYaaKc95i1cxQ+12aptu8c84Xv3u89bke+K9kw+10SHiabl+bHr3PH6fss4qPCdyt1v+p3S6fd5v/kOJvysYgpfs26BkfRFzTxaOvzKY/cXXx/xxR9cFvO+fF4cOf+8OGL+BfGx+Qvi8BMXxkdPvDAOL7zfh524IA49cUF1dZ/esyF/QRx6Ip+/V4TJsENXaU0Xv3CkHmUZV65P1mss14Vx2Jcv6sP3R5dDT7wwOvnpQ+P+6jRV5S77/GHzF8ZhX1pQ+abnh35pYRw6/6IV/sSL47ATL46PnviHOPzEi0f8Rz2bf1EcNl87de4/h8y/IPgVYYyhhUN+/vC1Y1t7L3wZ3/2KcbjiPsNkmurhvlM/ynAZr7x2Sr8ouzqMmn6vZc9wtfSTTiM08D7DXhCHzV8QH51/4Sr+sBMvqtpMu5X+0BMvWkH7kbSTDk3XFXmtaINOZRS/pGH9PsueaXZLp6ksg3qW+dfL1/Q7y9z0rulZhi+vGa4o/0i/8awM6z7D168Zrt6fi3SzTUfSr4f1O/PslH7mk9d6uPyd78trvmu6DoVbQwFKIpMV1xV3y4J8pe7uWRqx6P6I2+6JWHJfxJL7IxZ38IseiLidv39lf1vDb8/qz0fiZToz5VqjzwgdJvL5TKHtAOu5+IGIxQ+u8MaFPt/oHxx6Xo2HogyNYbVzEabjfZdw1Xi6L+K20k9VeGO7LEfedypPn+Eb63rfMM8ZhY5l3GqcDYdvapeO7TBKHl3jDfO9ij6d6NEp/ZJO/cbtlOYEPx+hd4/lHQmffca1U9ySHhMQvrEsXfpZFT7bt7iW/azsGyulX4bv0CYj6d8XsUYClOUx9LdChOJ3/lqWmp6VMAp1UBNwWSlQ+6OlQEuBlgItBVoKtBSYFAqskQBlUijXZtJSYAZQYPny5XH77bfHpZdeGldffXXce++9Va2XLVsWt9xyS1x00UVx4YUXxo033hgPPvjgCEWWLFkSl112WfXummuuifvuu2/kXXvTUqClQEuBXijQApReqNSGaSkwgygAlCxdysh8eQAXxx57bOy1117x9re/PY4//vjq2SmnnBIHHXRQ/N3f/V3su+++lf/2t78dt956a/zv//5v9e4973lPvPvd767eiXfzzTdXVJQu37qWAi0FWgp0o0ALULpRp33XUmAGU+D++++PT3/60/HGN74xDj300HjqU58aj3nMY+Ktb31r7LTTTnHggQfGSSedFJ/97GfjJS95SWy66aax3377xQ477BBvetOb4sQTT4wTTjghNt9883jCE54QX/nKV0YkMDOYrG3VWwq0FOiRAi1A6ZFQbbCWAjOFAindIPHYc889KwnKFVdcES984Qtj1qxZ8fjHPz6OPvrouOmmmyqSkLLsv//+MXv27MrvsssulWrHy9tuuy322GOPeMQjHhHvete7VpKizBR6tvVsKdBSYGwUaAHK2OjWxmopsMZSAEBhY/LrX/86Xve618UPf/jDuPLKK+P5z39+rL/++vGRj3yksj9JArA1oQJaa621KsnK+eefn68q+5U3vOENFUABYgAWLkHQSMD2pqVAS4GWAjUKtAClRpD2Z0uBmU6BBA/XXXddnHrqqXH55ZfH97///XjSk54UT3va0+Lss8+uSJThfvKTn1TgZeONN65sVEr63XDDDfHyl7+8Ug197WtfGzGWzbhl2Pa+pUBLgZYCJQVagFJSo71vKTBgCnSaiD2vv6v/HnBRek6uXo4//elPweB1vfXWi1e/+tUBdHAZjm0J9Q4gkuDFe4a2pDAveMELKnBz+umnV/FIZ/jWtRRoKdBSoBsFWoDSjTrtu5YC46RATuKZTP7Oq+fUHgsXLqx2x2S46XRVPoavG2ywQRxzzDFx5513VsVTB9uO7fJhm8JA9o477ljp3WGHHRaPfvSjK/sVdfT+3HPPDQa4rWsp0FKgpUA3CrQApRt12nctBcZJgRKIlEmRLpBMmKzthtliiy3i8MMPr56V4ab6XjkvvvjieOlLX1qpaX72s5+tVCTGs4xg2Z8ccsghlVRFnUlIqIhIXDbccMMK2Fx77bVx3HHHxXvf+95YtGjRSum0P1oKtBRoKVCnQAtQ6hRpf7cUGCAFSoDi3o6XCy64IP7nf/4nDj744GoLLsNTEoh3vOMdcdddd1W5l/EGWJy+k3rggQfi61//ejzlKU+pvLKXjv2J7cePfexjY/78+dUrZQds1PGv/uqvYpNNNonf/OY3cdZZZ8V2220XRx111LQDYmWd2vuWAi0FpgcFWoAyPdqhLcUMoMDixYvj4x//eOy8887xmte8Jrbddtt4+tOfXoGTddZZpzr0LAHKdCGH8pB4sD/527/921XUUN/5zncq1Q/gUe7eAVIAEpKXJz/5ydVZKc5Pef3rXx+XXHLJdKleW46WAi0FpjEFWoAyjRunLdqaRQFShd/+9rfxve99r5Iu/OEPf4j/+I//qCQMD3nIQyqAQu0znRyAQvX0ile8Ir7xjW/EPffcs1LxfvrTn8b2228fRxxxxIj0JwMAZNQ+wAtQtuuuu8b//d//5ev22lKgpUBLga4UaAFKV/K0L1sKDJYCQIpv1rhyjoWnAgFQ/v7v/34VADDY3PtPjSSEkSz7kSbpDoNZ79iUNO3M8R0f3/CxVdnBblnv/kvSxmgp0FJgplGgBSgzrcXb+k4LCpj4+V/+8pfx53/+59MaoNQJ1gRE6mH8Vr/WtRRoKdBSYKwUaAHKWCnXxmspMEYKJDgRnSFpAhQf1rv77rvHmOrkRSuBR3lfL0ETkOkWvh6//d1SoKXAzKZAC1Bmdvu3tZ8iCuRETcXzZ3/2Z9U2XV8GToCS76eoeG22LQVaCrQUmHIKtABlypugLcBMpEACkDpAmW5GsjOxbdo6txRoKTA9KNAClOnRDm0pZhgFEqCwQSklKC1AmWEdoa1uS4GWAh0p0AKUjqRpX7QUmHgKkKA85jGPmbZGshNPgTaHlgItBVoKNFOgBSjNdGmfthSYFAr86le/agFKjdIpXao9bn+2FGgpMMMo0AKUGdbgbXWnFwUmE6CY+J3B4kN9jrCv+07P6+Em6rf8la8FKNOrj5aladumpMb0u1/T2qcFKNOvj7UlmkEUAFBym7GD2nIXzyBJkExL2k5y/dGPfhT/+Z//Gf/1X/9V+dNOO626nnrqqcHn8/Jahi+fu/eujOv3j3/845E8Mn3PMx3P+HyWVzY5t9xyyyCr36ZVo4D+4KvSDuC77777am+Hfmafqb+8+eabq4P5AMnWTRwF0Bet8+vgveYkjoMRO7Vrr+n0E05f6dRf+kmnKWwLUJqo0j5rKTBJFGCDMtEAJU9vdbT+G9/4xnjmM58Zz3nOc+JZz3rWiN90003jec97XvVxv+c///nVvauP/ZXes7oXL72w7p/73OdW/tnPfnY84xnPqPKUb5MvyyHu1772tRHqN52lMvKyvRkTBS688MLqQ5XHHHNMBTb6SeSrX/1q9YXqr3zlK+EU4WyfiZqg+inbmhIWuPjSl75UjVXAvReX9PfpjJ122in+/d//vTr5OZ/3ksZ4wkxUPi1AGU+rtHFbCoyTAqWR7EQd1JbM46qrrqqYly8n1/0Tn/jE+Ju/+ZvwQb+3ve1tK3nPRvN77rlnpPfNnTe84Q2xww47xGabbVZ97fhxj3tc9cVjBsGPeMQjYu21116lDFkmX3V2fD6XZR8nmdvowxTwyYH3ve991ccqv/vd73aU2FnB+zSBdliyZMlIO1x66aVV3wBogRRqudYNjgLoCVwA6u9///vjhhtuaExc+5A0ah/fvErna+nOU7KI+MIXvlCByHw36Ksy+JTFlVdeGZdddln1IdHrr78+br311oF90qIFKINutTa9lgJ9UKCUoAAoE7nNGEPxwT8SDWBgrbXWGgEJJB5Wx9ddd13FFDHG9H/84x8jfT4rr/nO1XNMCuPEuHy5eMGCBfH73/8+zjnnnPjZz35WMU5gxiQHuMyePXukHMrlmQ8qjscBNqUfT1qre9wEeSaOgw46qJr8/u3f/q0RXKREBBDRRltssUX1JeqUwqEFFQIQ+sIXvrBS7YmTeeR1dafZVJWfxGTzzTePvfbaKywoOrkrrrgi3vnOd1ZfCycJK1U6xrBFhnH+rW99a6RtOqU1lufy++///u/Yb7/9qg+B+tL5q171qmpB8va3vz1+8YtfDOS7Yi1AGUvrtHFaCgyIAt0AykQwe6uuAw44IB7+8IevBAoe9rCHVUwNqJhIZzLzRWQgBmChznnzm98cT3va02LdddetygSwmEitzsbiJoJuYynHdIoDYJx44olBUvaBD3xgJdqW9Mr7s88+uwIgj3/84+MTn/jEiCon6/STn/ykAi8kaxPdZzLPNfWaAA/oID188YtfHKecckpjdbN9Lrjggor+2udjH/vYSgBFRJ/Q2HrrrauxRWo2SGehQ/r2spe9LHbfffeqX7Ed+9d//dfqy+VU1hYfX/7ylztK6HotTwtQeqVUH+GyE2WU+u983l5nLgWyT+RBbVQejGQnSoJSroB/+9vfxitf+cpYZ511VgIp6623XiVWBh7SKWfp83k/1zJ+1jvjE2mTuvzwhz+Mt7zlLdWhdaQo7FKswlo3GAqQYFnhmlTOOOOMlRIt2yTvgUMTzPz586v2yQj5Xj8FItkUCdeqepJCY7ua9Kl2nvKUp8Q//dM/jXw5POldv1K7ff3rX48vfvGLlbTS+/RKwD7oiCOOqMaRMINsH7Zs+Me2224bv/71r0fSZoT/u9/9rpKo5Bj2fjyuBSjjoV6XuERgOh2XnaspeNmpur3PcHltCpvPyjDlfb6fjKu6D3JQTEaZpyIPK1ErDmDhH/7hH6qtvxNdDis2+b7oRS+qDojDTNI71fazn/3spLWd/skBUNRCRx55ZGWrAix95jOfGZOYWL/LsZe0zHzy93iuOabKq/TGmoey2ro9kY705NGPfnR85CMf6Zmm9957b0fArL1OP/30ahW/8847R67S6zTILelJn/r7iazz6pS2Sf/1r399bLXVVmFnX+nQrFxg5Dvt07TrT3hj/Nxzz43tt9++sgW7+OKLM1p1zXbQPpl2PlspYMOP3/zmN9UY/cu//MtKelLGc//P//zPlZ3ZBhtsUKlqy/cNyXV91AKUruTp/6UGhxqtKujkp5srO0t5P+hymmzQABMzWFoXFR1uvPHGwIyIaH/6059WEguTMYDAqNT2XLssFi5cWNmDDJpu2eYY2/HHH18xmgQnebXKxoQy7KDL0C09Kz/levKTn1wxV/YrvTqMlqTAijEnzIw7FXXJvDtdARPtDDy4TpSj1mMYa0fVd77znY7jMVUNJGhsUEbb4krK8qY3vamyGdKXuTqdzz///EoyMJH1myi6TUa6yRtJEDfeeONKxVOne0lTfZyNifZZtGhRYxEzvDHOloVhuvTzeRkJr9H/8KNenflNmrmoysVAps82hYqHMbxdRVnHXtMvw7UApaRG7T4JXnvc8aeG0DgMy+ximK66WfXqt24qrX4AGPHuXXfdNYK8mwiCIVkREAP+/Oc/bwoy456ZfBkn7rLLLvGKV7yi2ob7qEc9Kth/AClWHFQbRPGvfe1r44QTTuhK4/ESEIh817vetYqRKsbjOcv8sfST8ZaLjQq9OvUBw119jhutLFQXr3nNa2LHHXesgMp4yzGR8dUlxeEvf/nL46yzzpqQ7OQDbNr+bTya3Do5dP/+978f733veytpHkkaI+f6BJPtIPzhhx9e2Q8JW67mMwxbiDlz5lRA5qKLLuqU9Yx9jk76tx03j3zkI+OjH/1oNeaTfgiT9CcxYZtidw/jVBJGkpEyrPD5G5g57rjjgqRj3rx5Izt68r2w+p3+Z2sycN+L0yfwBypZaqZMz5VnV8bWSX26AeJe8moBShcqZcfoEqR6lQ1kh8KWW25ZMUhGZuJno6VEwQRljzvdrgmo9OIneqZj1LjCWxEKJx7vPtOpr0zEh5Y///nPV2HFFYd+kyfRSJHeaPXyXvkBLXH/5V/+pRLfmTyOPvrorh3aoGNDsN1221UDAJNMl/TK32vqtV5PDPyb3/xmNQGwN2Gs+KEPfSj+3//7fyP+gx/8YLznPe+pvMPPJtqZJDGolJ7kdf31169sDOz8mCyXY0V+JE377LNPtQJMoF+nZ1kuBreAncUBw+PRxi7wZRwx7HM1HnNc6uvGDW8M5pg0uZMKei9O+hyXwpto7JRyCFrdleUnWXjd614XL3jBC0Z2wtTDD+I3OtgRpT3Rs5OjFsNTbE+1O2SPPfaIJz3pSZU9BGBduqyHtNlQ4XkmK7ZEnPfJ+4AYfZ46cbfddqtAb5lWex/VdmESLlIHu26aHJ6tf2kfu6vs0nnqU59a8ZASGIqb7eMeAKE2ooazBTnf5/jQ7gxe9UP9MeeTMo0qUu0fEwZtW84l4ni+//77V/wESDGnjce1AGUc1NMg2ZBE0RpYB2o6XAdgsSq2KnzoQx9abfF8yEMeUu1csK1SJzr22GOrswcUCTM0UbHopjsWliGlK2SaKyKngpbl0Alt82JLYCUsvOtjH/vYatVOnFd2qtGqryMDGoyi7M232pemLYZOEeWSBvW0iP4MOIeCYU7dts3V466pv9EKTQE47ZCMPNsw33vXia6DpI02olayzbjcdgyo2Fmj/VKCMch8R0tLuUjeAIic+Opxkj4AzN577z0icameD5m21KOM/GaDA9AYdyZiO4dyfG244YbVZAG4kSak0fCZZ54ZtlMCQWgjTo5L0i9jX5yUPo1kVruh+mVvZIIBciaSvuhoRUtCZxt7J2frMFrsu+++1bZwtip2VZH2kZZ2clbTdovgR9QF6bJf+20C/eQnPxlPeMITKiDeBN4y3ky8mju22WabantxpwndmTT6ll0zFhUkV9oU8OgEINFSu1okon3ZPt5pI077ANYABaA0npOcLar0BfzDeSzdJHZV5qP8awFKA4GgQLozYstEnQ3BRh5BoUcddVQFAnSc8uCcDGQVhsFZfb30pS+tGJtGNLhJO+hw5YVZYbDKQCRq8oBIMU0TiG1lgIuVnY6qMyWjlhcxIFE3kZ598Jio1QvDJc8dhdyvkwcJyKc//el4+tOfXjFyIsZOE0eZvpUwSQEQZhD0A47KdNake+1VtlmnupVhyvtO4cf6nC77sMMOq3TGJtyUogC2QLXV/lS50eptnJjk2awYJ/pbL45kyHiggrC1M7c4kzSQIFB12O1E129MKQeppmcmEX1aWLQyUVjR4hnSJHavr2qzTPo/wGChIp+JtlPDT0iHlPUf//EfsxgrXYUxsbA9ImHFd/AlCyMqB/Xv5Nj6CEuNcN5551XB0KrebuyugB08yaKqdSsoYF7AV9mgNdmCoKV+CqAwIdC/ABoLVTup6jv/StqbUwAUquRyHNfbyOLRlnHtSOI1FmeOkJc5x4nVZX5jSU+cFqDUKAdVGqREXho1JRS1YCv9JEkg6QA8dLZujmGZ1Qnmj7nZClZ3Ok+iW+9YdW+yySZVeMwAEyw7YT2+3xiHA3+IDTvtqW+K1/Qs85IOSYxyU/Gky/f5u34lBiZxQR/33Ghx6mm0vyeWAlQeJtkEJ3nVTxna9QLUB1HC7Bd5HS1N3xZi51SXXIrfKY36c2NQPYEzjL8XXTy1TgIUNhbGZC+OJJX9EanieA+j6yU/4IPUlAHmwQcf3BiFlMVkctJJJ1UrXnYF+M1LXvKSUN46vcpErNDRjDSoE92yLaRLWkUK1dqjrOCB5gyA1aSe0rqSxuhH+gHYGodUMiTkJNpNmxDK9gKA9beNNtpoBECWabvP8D/4wQ+qcgBK/YIL/Z+U3flKVFAka4NwLUCpUdGAnjt3btWgf/EXf1F90CwbsBa0+mlV5eArEg62GXVxqLhlfNKWT33qUxXKNAkAK52kChmP1XQCFOJlgKVbHO90YrpheuVuK6CmOtWfZTlIf5TZipHUJ12+z9/1K5HuIYccUqmHIP5ydTla3Hpa7e+JowBmZ1uiyZq0Lr3JDSBNW4yJK8EKZtlLHvoRSaH+SKqYqgN9Kv1o6dCjk4bo16QoJvEmCWiZDpE6HpEqIZIbeadao1OfttKlxgVs2INkecu0B32P3wBTJijnazQ55cX3lJ+tnE8eUFmZaCyoutHSyjslKJ0mtaQLcb80SWbwEsCoE62ayrmmPcu6AygkS+jeSSWSYUmz2fvoq8I3qWMyLHoBPMZ0LwBFf6SWATLKLf7lYrneBvIyPwGddomZC1OVZN7pNE/V0+n0e7UBKCXRO1VmPM8zfQyLqAtzprezQmtyOeigTqshEpfSJkN6TV6Dfe5znxtR8TCKlGcnZxBbeUDMmChJDXWQ501OnqQn6kDP3WkrWlPcbs8wZeLeLEO5Mydp1yk+WhFN2qFCkpJbEjuFb59PPgW0kclMX8NotDNvHJAskFBow/EynEHWDFAnlWMPUoqly3E3Wn6YKeaqruyrfF9mNGd1aJJAGyDl4x//eE8TLQBI2kDXz+BxMhzgkSoek0cnl5OQMlLHUpmxP8I/rNrrdg6ZDhWYRRO7g/pZGxkmr8oCmJCisP9pUmdk2Jl0RXMSFJKLnNw78VQqRnzU2UnaFZhmg9WpfQBIAAXN0wC2G21J2/RPUsnRdpZpT2odO+eE16fThMCc5jcJ3HjctAYo/TCa8RChjEskhuAYFtFYkyhSuQxozNrBUphUr8ZF4rLFSF0/gFLXIZblwQx1XHkoU55l0AmgWFVCvwzeTCiDclZHDLKUweqvtD/pNJjKvNGV8aBJgMFc66YnBdhm6Mtpk6G9eVIV7d/PuSQTWUPjDwMkPWE4SNXA9cszABsARx2pL9l8jeYsRKx4xXEehImikyvHBhUKSauV72iTeZlemUZ5X4bpdI9HAZ3GHQPYbs4kR91FwoN/GOMWaKS8dTCB/spi0gNQqIOoCUdzAI0trc7IsLjj+q3TaHlM9vtey98pnDnGXMNWsBvPJp0HhvU5YdESADBe7WJLkCmfzMv8wbbIvMEOaDTnuH2fntBfbPHnMq2Mm+nrG+ZKdidsIklgLHLYhQFGbI48r8fPdHq5TgpAUUADJTt1LwUTRjxxTMYl8XuNL5x80/cS77TTTqtWiwx9GL52E2trBNvx7MoBCnp1UGoCFJN9J0M5KNTWXqqmBCjE7cTEOkGTc3qg3UTEuSk9GU8HyTyojKB2TJm6JgFStlGG63Y1uNAKUOnVmLGe3iDqUk+z/b2CAuhrFecArlT1aHOe6Fd/7SSGXpHKxN8RXdthQxWhrxvjXPKJXkogLOPx3FVnVV/aUaBF+jI9W43zW0YWD6OtNMW1sjzwwAMrQOUci1LNWaZd3pd9XVk71U3dy7D1NNiOAQRsjLqpewESYAOPIS0F+qiytHnTeMUDSFlIT/DBctFSlqG8V1ZACT+jnkseVYZZXe7LvtGpbXqpCxrgqQAy9X+nttQGgEyeCGz+8Z0kH25MgC6/jO+q7bWPOSHtyPJ9U9kADP3T2AdMU91ZxtGGpJeAprFDKuiDhdTAxpNFu/7A/rEb4GrKv/5sQgGKwWDyxfDo2RjSYAAYHEJ0c+LaWgWhi0cMxkocY+o2yDJNk7tGwzwYZhJFSauus2NDQu+qTMLrKFZlVhG2OHrH6xxEWqWzkrL60hC9rLwyrpVUAo5y73m+d9UhoOJXv/rV1YTO4FUcDFkHaKIBpqdzWf2gV3aqvJbp93vPlkWnZTkOIGFGdhGhq1U1GmU+ea3nYSVHfEgdxiqd6xS2HrfX372kJ0zpe017JoRL+tmpYrJKIE2dAaQAqVSUvUywE0kv/ZvaiSSD8SDX6ySRdcQj2ESplxUjoJMMuVPZLQww46QHkISHjOasdKmjGJNaoNR5SVN8EwG+g++ZEPAD4ywXJyQeeJpzX/A5E5ZVdtZPmu7xXituYKqb5AZvJao3UTrN15jHnzpJiPQB9acKt5NKeXtxgAmbCAfqKf/q6tCW1IB0mR0GPljaFdXbQXuhMbsefdX79PoE/m6nVS7+6nQxHwIFVHDGIHUkCUb90xSZrz724Q9/uFrg9jpmlcui2DjXF6iUuEzTlcSHVKZcuDBB0KY2lpASemfHKbqU8asfffybMIBixUBEhIAqg7BWKBCgTs+CPQdaVj7LTcyM+MJBZyZpcRGMpbCJTiN3cgY1ZCmerVkGpsHgykgrjbl0BGUUhpgKCNAwmE9uz/WODs+22pR0JCNkfKZTOeODuK1Xh6GmCF0Zy1VbpgFI0RnLH8ByhgEmauVmS2gClJJ2Jn300WGTtpneeK4Qvo4OoGBGzpxw1oq8tAtjXFd2Kd2YFOmOdoC6Dciy7L2Wbyxxek27DbeCAtSO+lHu2sJwclJmB6VPTmVb4B/Ggn5H/aAsvZYnw1k4pToX8Dchj+bYd1mxJnNu2oVXppF5WUkm0wc08nkZtrzHY4AS4nbjjLfwwD8tcPAi0g281bu//uu/rt4zXq9LfY1fQMzExgak0xjFM2yVZvSKH9pijo82SezfcpEAACAASURBVDmUH5/G1y06epEiZf2cE2VRR1UBXK2OTv0taBlVo4F5CmAuz80p64W2xpO2OvTQQ0cWytkPLHaNNepKICZdvvcb4KAW0zb6gtPKSS0AlyYHbOur0i0/vFmm2RRPmxjj+mt94a1fArzes2thq+SqD/DmB1cfPaTKTACac2ZTft2eDRygICIkSYynggxIDXz6L+ideFQlDLS6fYe4mAZLYrtW6M0MOOmpqMHlGU8UVrfdQHjgxCmdCEc0qWHo4aQL2EB65eFDJnWdzPklOXlaNVpxsO7HgOzOAUbKgU8CRGWBUZFalO+6Edw7zDWNXjGDJkNcHUOnN5HrsE4bxZBNEoCL1R+XnU0nBRyI5rutkkYrW/299ElKMEJ0Adzs2Sf+s4oFroiuiYU322yzapVXTyN/W2kCemgGpWvvsTjpkOBoa4ya97sXn+HLa8az+kl65nUs5VtT4qCHcazNc0J2BcrZoxhXU+EsLNifGAsWHCbKfhhgti1mb5UnHbyKbRQ7CkaHgAh9fPr8bUHjrAh0oHo1Pkdzyob3AEG2kqYhoXhZljIN9XOQnEkIgHKPf+J58sSbpGN7Mx4ELLpXJtJJvC7TzvS//e1vVxNHp7NXlJG38FF/izh5duJrxm6qD7RBOamWdWm6l76JGj2AFflmOZvCT8dnxoZ5AUC24GRXSLrM60d13qbNLbi1kYUyaReX9cbL8HUSwW4g0ryDfhZ7+HwTeJQumjJX0C+AHnHSZZ75u7x6py2BH+0DsHJlHHUzHox/44X3O70xY8EOwHWSBpV5drsfCEDJwiuMyYz+yWrfRHbyySePrOZJPSBMEy1Rp3dZAWmY7BDTCttAQ5yUFKiEiYl6gQoG4SG5cjUgLd8eAG6AEwBIQ3HSIZWhiyVqpdKRJzElpCltIIQ1NYYMmeo0Bqh3wFCmJT2TWh7pS6JRvqsy7PLP2SpAms5qVYN5lc7kCURZwRDpGgxUTzqMOHbnlHSRt0ECRGBE9cFRpt3vPRrlh6zkbdUDtJWoHSPTHuhGTI5enRxgA+iMZt/TFF9ZDFDMAIPWV0ivrBLG46VhpUp1liJ+ebUuqsWBSVKbmcj1AZ4Yl4E3cJBusmhmPOhnymHCNRb6yTvHKhWueklH37UCtjolqTWWXNP7bcFgBwWAJo7JKQ8nSxo0XY0H/R3fs/unHLtN5bYYs4ADAkvjVONMvyfJRH8rcbQwETkJWJkAGJMXp56ZvvFKfWACLHc8ZXkzXP2a7+tXEy4pqsUifpY0rYdr+o2nWkipA741Hmlvlrcpn4l6Zs6xE1GfACbwW1IHPN0YMceVdUIbZgqkDvqA9yVIzXayKNWOFppp56V+Y6kjCbyFvvaxIO41DeEsfvfaa69qrqS6K/vrRNG0U7oDBSgQHWYPnLDNIC1JAKIAEBfgYSAZKCa+fG/wQeIGP/GQ71k02akYfFY7GppUodSFaxSDRv7ARukgVuoUeVNJlB0kwwEa4gJIaWGe7+pXaFEjSo/0pR+Hoai/zoyhpLW0NNQZkIKy85A4HQYqz4OhSCFSgiIOtIpxkRwBN1yvHbIK3OWfwac86AIY+nYMplg6dDdY0UL7QtCdHGmVcEAWhN2PUyftbdVo4sDEB+HR2sREElROuP2UbU0Nq/2tlHMCLEEKMK/vJiAeVJ8bjZYWDs490Y+oPk0Y/eZtkjTesz6kEsAOpk5q5Cpt3rjSXwFi4zYBit0TJf9pKrdyGS+AOb6Cx3Wjl3KxccGjyq380iYZMbGrd7ldnwTW6lzZ8AG8icuJL2nDrkg74tG5gm8qc7dn0kJv/JnElOrX+O/HoZkFATW3unaSAvST5njCJn3yOlpaFjH6B/V70tF8wf4Cj9Svso2lhadbOJOaWzxbmOfCusyT/ZDFH1BhEdYP8M50tDlv9wxeXAdDo9XNe3OyedR8w1i6bN/Mp5d0BhFmIABFQVTCKsEghPB13FyNZkFJHZzPYXBhMKQDHMkKwykSAp1WA3ca+NQ9qRfXyUs1j9UGfaDVEObhd07kVhCkENQ4gE0+z7JJJ5kesW+dOdQbxiQMoGBWyt6PY3ikc2M0LLJLMIUJOZeB2ig7hg5D70z6Iw5GWtKWVMmEDfgM2mkz9FJPkidGsXWHtglQrDCTQdbD+Z0ABaMeqyoKiEB/VumD9OpRb+emOnR6hsEoD+CFcRGrTpTP9LXPRK9w9DVjmxpP/0uvT+h3k21HkAAlV6tjASgkH77uqy54FlsL9TRZuua93zwDR3YWpEn4i3iYN2dC6OYAFPzQ5OVY/VyUNcWxcpZHudMt+yQ7FuOL1AdoSv6g37FXsaAhbs/Jr54+nsdY0gSIx3aTdNbj5m91xb8s9kh4SMz7dQlQzBN4i3HXi0OH9Enz8rdn/fqkbeYvfv1Zvsvn2oh0m5Td2NO+pIkWcWjrMwkASoZXXxJ9fYbpgbZKl/XI32irX6IvFXqntszwTVfqOWmQ+OXYVJYsT1Oc8lkCFEIAaifjbarcwAAKXSzDJ43gWn4wLwmjMUxeGkGnzMYhLssPDAEvdK6ly/ieMTCjZpCPidzgTEdCk4cumcwNdN+PscqTJmYufAlOMm2TJaMe6VphGOjdXAIUTAdz68eReFCDYTQGKXTNKZdOr9xoxCmfzk4smwAFus1BbXcAKQLwhYkO2ilH6repnZpWO+hqokI7q+putFNO4Ygxp8qGYdA0kp5VkgmEdAv4AsRt6xyUb0pPPiZJk+1YGFk/dNDf9DtMS/ulBxLKL9n2k+ZYwyZAsZgxwXWbVDrlQeyd9idU0aREoznMPiWfDANLyWe3uBZgjFStsC2cku81xSHZZZ8FDNXDkVpQi+AZ7B/KNndf/s60M43kc8A9qQXbN7yxX5CC35j8jPf6gYuZR+bd6YrP4SWAngVLkzS7U1zPTfiMStkhWdzxVBH9+oxLTQPcpVpmtHoYC3i2xTLH1AAwMSbMIaTY6J60118TDAMNGU9ceaX3Wxvqi9rH+E4V32hlqgoSUdkOWbhrHzRKSU6WJcN1uyZAIUEhVV4jAArRfzIt4q+cQJsIURIbY2f8lbtaxG2aBKWDcPR0uZLTgCVAca/DG8TKYgAgMsmM7xaQNFjRlh0i7w1+xm8JGMp0m+oAaJl85NXPGSjSAlBMOKnXVy4OAwQ27CWv50+EaBuXeqk36RNxMIRLPdFkaNtU7n6fAZpJb+Luekf324AjXVE2zL4XgEIK1E3S0q2c2qxejm7he3lX9slewtfD6McMsk2YJHFUAun9BlzG66WTablqD5MN+o+3/PX6NP02OelrqeLI8Y4ZJqBuijfoZwlQLA4A3rHU3aSE5wBYoxmWZ/rOAgIyxGF/kjsURqtfAhTSUob3TUAi05CXCTz7d+Ytjs0GACK1sPt8l9dMo9tVuiZQ24jtKunHuFW6JnK2d9RF+PFYXEpQ8GdAq64yHi1N5VcGC2F8ne3QWL34NnLgRymRGi1/9FYHV+OeygaPtICkyqurZkhMqMPUl+1UJ0CW7ShNdAZq++XrFklAML6d6eV1tHrl+wQoxpcydJvLM85EXQcmQaGSSFCAaTY5hDJAXNOrPD2ZyRrj6yaNAFyI0gxSzEU8HSWdNElYoD46ZeAEM0lGikEAUlYRyQDEdU/3pwNJu8mILPPIKwkKgCKPlIDku9GuBhh6qS8PkFAxKTcJUG6DLtMhAcIc1YX4jy2OTgxp5/ZI9R+kwxQZKgN47H4AybozGBkb2lqG1uieetl6WL9LFQ+7o/E6bTcoP96yoD/mgm6lN+D58lm/92V89+psdSS/Qbd7JzpYYTJqzJNX9UV9krHmZNrulAAFw++3/tQ3uW1eHTDhUqraVH+8hyo3eYoJbbQ4mU4CFJOYyUPb9+qybiZPZaaOAo4SEOb7XtPLsaLfZF/tNa5w4uBV9Xzrv7ulmRIUi0F16jRhd0pDvweQSEDYObKR492PxZP+U4+nBKVTvp7X60ndY7GpLuyGUgVehjMf2t1jgWmh2an9xcl4ruY2Y71XJ446lDyhTLPXdORJFUllpb+ar6bKDRygEIEy0Onk6gSz+kvjVatv+rtOzsTnrBJMhZoHMGjqVJiJDkddYtI3oKFB8VhS11ecOkIyLGXIQ8Q6lcPzVPEAVnZ/9ONIRzA7nVp8RrZWZ4w1DbQUy0kTvbgSoDiXRXgraEZxOdFn2E5lqb+v/67HozIiBsYUbXkszzrA6DhhDFDgBPMmAeu2EjGZaQcGh2O1QQHOACf9zEmW4/V2PvFWOgb3WNxotBxLmtMhjnYu60YCScqnDYF50ryxtuNY65cABbgH9Dsx/E7pWwCwATP29G0TiDqW9azHVUeqV2MWL7HQyTFQD1v/DbwJb3ywRSjHdz1s+bssU7nV37gHsjq5bvXoFGesz8eSF4Bi1x1aWnD2o0IYS3791K2X9IXJcFQwue0cL65Lg/QRRtfGC8lXN4mINHvtU/3Uqd+wypAAhRSYCn+q3LgASjaSwqcExcC3paqTyzh5hYSBAg1IfFxOgmUaUB3QYaUurFMuiVilg4CQM5BBzF42MgBjcFOFEMER6TndTpgsA1VDomC2EXkksPyBHbpNZw2Ukxc1Bt27svS7iwdAya+hmtjVm26S4VuZt/JlGRnt6uDyI840wTMINkn3i7LVq0y7pHN5T7pFZaGMJDsYbZYn6UddBTApF+NlKrgMk9fMzzUBii2PvXb8Mh1gkhjVKh4Y1nfG4jGV0kuvtO0p6dDeD1HAytmWeIaaJheA2oqxHG+TQSv9xljR5zDQXif8LBvxt90U+jWbKeB0NMdg0e5CeYrDaD3rXfbPejreGUdUO6S++EzJR+rh/RYn08wruwQSGKDMGKo7K3k8EICc7i4lKFbopLITYTs3WTQw1+lL5hbSvLrBOukZexv9Bp/MM2omq3xjySclKAC1hbQ6cNkXx5LmWOMMDKCQVGgEE2c3Eb+CGrC2GGssiJJoTFyo2gTdRAi6UoNbp9YhSE8MdEwC00yxMyBSipszLSJRZ68AKNRAnHf8qaeeWk36mK7VVDIeYQADK0ZAoGSE6pCgjNqiH5CgE9s2LD9MkmqJcTD9Yemy7J5hkCYG4a1cqV0wZ4i9DFfGL++FMcFYrbBdseos61mGzXt1JP7GFBkOi5dOeujP/gYwEcbqUJx09XLJ00pSHVKtlWG7XTMdV2mYYGw1RsP0VIPj8dIzUdVtf7qVaya9Q3tGkYC0sUpvD4yO1ocmgkbaiO2CcpDY9apqURZj2ESeNm/sT9JmKvtZvcye63PUnPIkSck4wnaKl+mYgPUv4xZ/NA47OZIRCyjAL8ebRRabEWVmnFuemyRv41DfJ+VksDndHZ7FmNQEaMxNRR9qolG2Y16bwtSfWRDbPmz+YcdYSvPUy3sfUiStY0ZgwTvdnfFFMgp0lRL9fugyqDqOC6AoRBY6AYqOlyfE5ruysMCDwWpFbkIGZoAKk5aBX4qLM75VswEKmBikJBcpacBwoDyiWt7qOsWfOog0dBrM1EE6tsNabZRlZ0NhwrdCwbzSmWxt92OBTVJQxnHP2h7Doqfrp+Mpj33ugIn4QJdtf91UIxgPyYmOLo5On1vI6uWqClr7R9pEagHNK283UWNG1VEBEDTHWE0E2SbC2IVDiqM8rNiVpxygmU5e0ZOESh20Zz+gThpl3pnmRFzlM1l5jbX8k11GomxjVl/AjOn/+22/sda1KZ5ximfYDddt3NTj0qenOle/NSbwl24OUACo00hdH86VsnboZYI1EbNDQMMSxJf5ShPwYnDuOARqXGlTJ+ONymsxl2M3+yiDeeegMJzulHaZz1TfU7EzrDYBAn79uKxzP3H6Cdtv+haw7LBIc9mXGBOZBn5pl515xfzCmDbf9VOmyQyb/Y3Zhf5qYT6VZR43QEnimWABBLYhjqdP5pWVg/KpUgAZdiREns6L8J6Rkt0wkCiwkAPeO2CDjQHjSx3aEbzUQJk+gMLWxCRvkJYGptKRL8AknkmU9b5n3uVkarKE5m07TANZ+WJKrK+hSHG4rI97TJrkAIAp802adLpKA43ExXSoxfI8Ae/Sl/FJgJQlJSiAWJapDFe/z/ISEefupgRE3VZy0hEXsDMAiSdz14LnJDEYvcFHguJ8hSZ7oLI8uQtEenmEcvm+3/ukU9ax3/ht+O4USLpSGwDq+o1zHGzvTKlFjtXuKQ3+rW3CwJKJTr/isrxlbsqnXyovIEJNnIdFik8sbxwAB6WEFG/wTFzSS9IJY894JSkkFfF+tPpnmWz5ZKQPfAAYTfEArZQmk9bkNmBAxRiTv/qylVI+njTCOLSjRR6rgzOR48VUrKuDxKeJptmuFmXmLdJ5286TB+obQGkevUE9Xz8+oyndqX6mXsrp205UmvWt5JNdvnEBlGwkhWa4SOVgErSzxA4Tkxh9MWDC+p/kwwClRmHYmfExQDtyABAD0KQoLqkFVY5BS+8rjA5tYBrgGR+ASBsCZ0JYJVlJWFkwuqU6coJiJ30alAgBWyHJT94mXJOyOHXDp2wkEiBqF3ExkX6cnTckKAzu0CM7dqaRdcvfaIR+mCp0m4Am33e6ZjpUarkCxGSlpV3yfaf4Vm8mJ9In4BKoJDmhByduJurHSHvRIxNNS0cbd7I16lSOyXyOJk0TyGSWYarzyn5h/ObYJMEk/Uw1GBpNFZ2AEoBdH7To6OSAEvzEuKau1PeMIWPAhE+iSvRuy20uMgAVK2P2EbYxO5As44hHHcuGTJqjTbBJR/yReswiCG8pFxcZhnSZQb882NoB8YCYQ8GUwULGcwsy41B5lc8Y9KyXMdiJTpP5HO0sbPBlPGh1dNlmeKE+RELCBEGbmH+0m/bWx6jyScBygTed62s8k5ob6xb1uQFjqso8LoBSLzQ7EVbZUCMDOmoBnZB1MzsONhuMYpPBlfHFJRWgxhBWXOJQxrDUCPR75Xan7CDSsPJgyCofRJUn3bLfBrUJnWQEAyjjZf7ADFEcRK9TsbdguEqvK+2Mk9eMh3kzrMS82EL06qRDKoS5ElGn+qiMX89LOahmgCHqISCtHycP1v/iW8mpo8FVz6eeJkkV8T6rblIshwBR49kNRU9pRWq1MJrT8TEmUjbSs9SvjxavfK+sTeVtelbGa7rPtJriNj1rSmNNf0aKyGaI7QRxr7Gtz3NJv6migUUDA25lU0agoqndjBvAxGGDeIsxbvVOioJPmdwdEmncG5P6qXpbmOA94liECGdVKR47Nv2fmpUUtRcnTeobklpneDT1f6AFHyNhtuAimcW/8EITn8WW3/LNcYjPAjyjSUN7KeNEh9E+eAVegmcChaOp1ya6TGNNP/u/fseGkUpOvyDFp0Y35wCjwKa64n36wHR0OW5c9SNqT4tnC+eUlE5VuQcKUFQCA2PZDIhYtZOkMBSyYiaZ6Lbish/eioSIiUrCyocIjV1KXcJQJ5jVg4nUFmGiToOZKNFvKp5O8bNxlI3olU5Uh2OoltbL9bzyt7hp/GbyT+ad75uu4gAXVlQAmfyyDGX4+jMMDTO0pbmXfMq03AMaJEpWnhg7YFVKserhy9/Ka8WmLbQJ+qCVZ6lqK8M33QNDAKOVBvVW66Y3BZwwysYKiKaKtFiwAuw2fiezRspBpE4qWBq61sug7+p7+ApPVWrskbS6+o03uQIznDhW9sYKz6heWCCBJ70Uh+qnn7EIAFkcWE1Lp8mhu/RJZ/FPvFD51dfkgccRu3tnceADq00Lvqa0p+oZXsarg7mBugwdUiVV53VTVc5+81Uftoe8sWGuMW9pG7s+ATEARR+lQVgdnH4NBFPDU1FxU9k+AwcoZSNoQH4sLjv1eOJiNP26buUtGyrvATFqK6synXM0l/WCTDHETgg108/01AVg6qRuynC9XKlkiO3L3U7d4tXL0o1GZToZz5WdERWez6xj9ukyTP5ur1NPAatCEkeSBSspE0p+P2Q6tZd+RIJAbZiSDOVLP1mU7JUmQBFpMPsS4K8fN1oeo73vJ6+JCmsxkyd9U4fkbs/Jbq9B1A/fBh7ZMM2fP39EIpYLNnUj+QJQSONz5+gg8p6INLL/+OYWWzNln2r1jnpOKEAZBCGTcINIayLSsHqhB7YicC3FeE1lb3o2lnKNNR2gCDgxsPoRr441P3UjubHDgPSE4XEO4rHUu40z8RQgGcjD2KhBSEGno9OPqAmsUJ2LMugdLL30+X7CAH7sZajL9tprr54XCN1o30v+3eJP5juScADtcY97XGVfU5a9vJ/MMo01L5IstidUjGwuS/sSddHOgCieZ0HYSYI/1vwnIp6t86TcpCekk7nAn8q2mfYAZSIaYtBpEh1DyaQoUHWvbioaXsez6mTTM1n5E21b5ZZb0HulURtucingbCKrJ5IT9kokKaVB52SWBtinRuyWvy2rjEjtOCi3cU5W3+6VHlkeq1IqKeW1VdrzfNdrWmW48cQt05mI+7JsbE98c4xxrMUKlfrq6kzc+LydO4xg2Z+kNMg78wFbSOCFKp2Kbjo77UQqzrYRqAKeHcXheemnog4tQBkA1a3kWPTbCsgAbiwruXIw91IkHYrvJx5mbvcOI9VBqIp6KSfjZ7pYBmN5xkw/Ze4ljzbMYChA0pVG35ivnWZTZd+gj9idRyWgXJ2cCQHotv1Z37brLN107GfKZNegxQzAPt0nr6TleK/UW6Ry6p1bV6dj+/RST+VmY6LP2e1CxYMXA9Js8xjJ2lYMpFCNCj/d68pO004xu2XZ0HDTocwtQOmlR/YQxkRsN4FVJ+vnibaqz07faydiyGUFw/o/7QkMqol0DJdt1bQDwrbkVH/1WuaJLNtEpd1Ut2yr0fJsiptAdLS4431vRWuXmB0HmK5dLP1+xG28ZSjjMxTFMKkjR1tts82iOzf2nAnStEOmTHuq7/EGWzmBQNIEvGNNdhZsdnACJ87Q6Ue1PF3pQrJH0qgNbfEmkcb3qbDswnIkgz7cTfo3XerGFtHcZedYuSOsiR9NdplbgDJAihOPW4EyLqSD7GQAO8Ase05KJ7RysztgMgYNcGLLpHMnTHzlyrbnQq9mAUsgggmbOE1G9YFO4mYS1SZ2bbBNqDvAhPQiw9BhTxSglAf7KbYRdOZ2pE3l+RQmbJJIO4j02dHqjb76l35mGzA7p8mSENbbrdffTsK2m86kbWfeaDsGe013uoTLPp9HONiyDfTqa2uCI7ljpA2I+LI177MLtuLbQTrd+1+2gXIaL7bNW0Rqr+Rj5TXDT/a1BSgDpLiJh/5xv/32q84wyA9D5WAdYFZ9J6UM9MBZltGYft8Z1CLYnmlrqpUTgzIDOvOuBV1jfmb9bP006ZiAMGViXyCEx9Sclkx1QdUGGJAy5emgiEGlwfbDuRnO8BDWKs22eYBmkA6QBKbZRNhObAVoq2HWZZB59ZIWaQlJH/G53XFUA+m6lck7/Qy9HLBoS/x0dsYf9Y62ZRPW75Hv07luZdlM1nbuGQepquvWjmXc6XyvDtrQYs+YBDBd/Z5o3joIumQb2KruvB0fvCUV4ryr+0HkOZY0WoAyFqp1iaNhrT7pxdNwqkvwKX2VnXQiCoH5+uJrSk6yw09EXtMpTdb8DrBjOMf2htjUIWC2owMdDnJiKU8V4fMQwrKad7CTszhMyFZjfjswyQGC1AC+2GxHjfMUBmUXArDaoePgL9shiaaVczIYbL3vKYvzkoB7YMmBfkBZP+oaCwTSF7YruTiYTn2jqSwkCozIy633TeEG/mx5keLy8kfxfJy32thHD9Uvz5gZZ5LTKnq9D0+rwo1SGGU3zvEc553U7SanS91agDJKQ47ldTb+ZDD6sZRvMuKQmJgwZpJL2wIreIc2OS7d5O+oa4CFGJUK0Dbe1MM7uIrthK2yjCYBGOeO0GmzG9KH2IIAMuxDHIXO2HkQjpSLxET5qEYczz2ZbSYvYAuTJDXxSQt1BJZIUMYiVVgdx54yGy+T4mCRicEjjcVXr5nMBxuJMk0eapeUbJdtpD/y08G1AGWArdDUqE3PBpjltE6qrHt5P60LPcbCqZ9VOyNkemnO6jE//uYLzr5pVD951CcIhLFd0cQMxJAklI79iTRJFeyGojIaj8OMnEnhkxDyZbkPnJSTSdle7nvx0q2H84yXNk/NRSpC0sRGid6enRKApv7KA6T4YvDkSSBz1h5iyiv/Gp3SZfihFEaPUw+xfJkV7fLwNxlOLkuXRyxdNoRXVs7Vr/RjK03ZfzKFpmf5bk2/jo+ag6dOU1vUx+7gc+0/xRag9E+znmJkB8hrT5HWsEAzre62T5Ke+CgiR7RNXWHiJaloOt4cUPCNI2GocagGTeilI20BbkzeviVD6sL1Q98yLLWbsw6c0yBfNgJsp9hwUDG5jtWT7tiy6EpCQ2XkfBI7HKhvSIJsw2R3Qf0l/7r3AU27PQCasbiyrqPHN3XIh7TPbD0EEZpyLltFHmIui+WxLJYFM+cHY1ksHX6yQkxRxipKI3Llhm9clkvPX1WS4evgIQtQck8MeV/RGq55ld9QmdTi/qpmw4Vc7S5DbTNc7IrESdUCew2TfpCV01pDbbjyfxRdmhQt863f+53POnSdofIW9RlnBXK85HWcyQ00egtQBkrONrGZTAHnB+yzzz4jdje+08TwlOTDiae5q6tkBAxq7VYxSTMqLj+ImbRkfOfjjsLUDUczTLdrNZkOi2wZodq66zjrlNo4nIlayQf17LZwlU/pm56V7/NefBIhV18btqMNqHJAFylSHYyUz5THb2mNBYR1o0Hndxi9qYMqIuL+5UMTt8+63RYRty+PuO3BiNuWRtw5PJmb0HkgRmzghPd7aG7JyWP4ivYV/YcAUBUoJ6GRFIYe+D9RHph6YHnEfb6Zdl/EN/434nPfXx4Lrhuqx0iRRgDbiied6Tc93yQNh+iujEVd8mV5HUM1yuh5X2v5YZCJvkNAmx7wZQAAFdtJREFUU7jKZYT8XV7zXQaurtnT8mEZYc29bwHKmtu2bc0mmQIMNAEOlvzsUezSMSGz72CTkiqQUkLig2mMZG3x9cXTpi3gJBI+4JVqotwN0Wv1EhApk/NCUp1SBwvT5bfdT3YXTY4bWvMCF0DGoqUR//HLiH/4xD3xjqPuibcffW+87YglsfcRN8bBX7wzTj0n4uq7I+6IIX97RAAz9w/Hd+VTKrES2iimq2rirOYa/0AGMTpPPtbl4/VW8fcuj7g7Ir7004gnvPzs+LMtfxp7f+gHsYhIpXLKkD6frX5XNTClD/0fuvNrlZqt9CB/jH5tlpOQmnizIte818uG2m8IqHhOxabVE+C6+s1rp+xTDwwXf3kl1fK27oYD1B+vAb9bgLIGNGJbhelFAYCAioNax6S/7777VrtLSkmGEpOM+CYSm4sXvvCF1emUTUaqvuUBVPjYotNd08C231rbRugjbQ6XeuITn1jZs7Bp8RmCyfLyS1/PU5nyCPisWwnm8tlEXE0OJoTTLoh41uuujHW2uCJmbXl9zNr6xlhr6xtj7a2vidlbXRKPefUVsfm+f4pXfShihw8sje3etyRe/0+3x6FfWRonnxlx/qKIax+IuO6eiJvuibjzgWKiYfPBIHa5SaaYVKrfpCzLhsQwZq76HDmASgMof1oWsSgiPvBvEWu96LLY6GXXxEvfOD+uUth0mXf+Xg2vqjBE4ZzyhwCBZ8DokPQLWPC+hAYZfujq/bIGvzTuiwfj3lW859Rjq3rP74sH4oEROHrP8ogb/hRxwz0RN98fcfMDETc9EHHjAxHXLo04+4aIA4+9LvY7+L/iqtuH+tFSfWQV1/RslUCr5YMWoKyWzdYWejpRICUUyuTepGrrnomYiofUogyTZb/yyisrVQgQ48Nj+f2LfO/KqNS2Y2FM6CQxY3VUTOxgfv3rX1c7iRjxOvOk9GxRyt9TcT8Vh3mZjsgxvnVGxCbbXxoP225JzNp6Uay9LXBydTxk6ytjnZddF7Nfdmusve3NMWur62LWlvzVsdbWl8c6W54bG7/ignjWbtfEZu/4Y2y297Xx4rdeFq96z1Vx4OeWxbfOjjj3togFd0RcuCTiwtsiLrg5YuHNEVcuGQINfyokMfVVtQk1p86cYMdyJT25JSIOOCFi1mbXxCO3vTle+rcnxVU3qn1XIc5Yu90UxQNRhiiUbUs6dvmiiAtvj1g47C8c/u3ZiC+eLVwUsaDBX7BoCIwCpKX3vFP4CxZHnH9nxLlLIk7+bcRbD78vXrTnZfHXe14Vm+19XWz29uvixe+4PjZ7xw3xonfcHs/e5cbY8CWnxwte+5P4+YKI6+/qJmObIjJPcLYtQJlgArfJr/kUqIMPoILNCcnIhhtuWH2Eq4kKpCzsM4AP3+2onz4J6PhMu3NU2GfYdcPAlfEoMGP78WRJGJrKv2Y8M5ENrbYBhD8siXj1/nfHw+ZcFhu87Mp41Pbnxl+97dLY7J1XxqN3PCtmb7Eg1t7yklhri4tj1pYXx6ytLou1tro61t3u1njodkviIVsvillb3h6ztlocD9nq9lh7zvWxzhaXx6NfdXU8a48bY9O33RTPe+uN8bzdborn7XptbPrmP8RW+1wS7/7kPfHlX0Wcfk3EGdcOefenXz3sr4o4fdif4VnDfT7rdD3jqohfXRHxX1dHvPnoiFmbXx8bb3ttbPWmk+KaP5IfDbmUPgxRJp+ubldSBdKPIZXWdfdGfPpbES97x7XxvF2vj013vS6eu+v18Zxdr49np9/t+nj2btfHc3a7obq6f9ZuNzT6Z+72x2jyz9rtj83hd/9jPPMtN8ez97otnvm2u+PRO98ea825KdbSV7bUZxbFrK2WDPs7YtYWi2Pdbe6IDbe5JZ66w+/i1fv8It5/xCnxJ1bNlVOzNVdykrVsAUpSor22FBgnBRIsAA6+beF8EcaluS0438uGrckpp5xSfWCSAeknP/nJVYxoqXvsfskj6J1AC/wAJ451/9KXvjRmdc84q7qGRR+azEgt8P+v/WfEs175i9hkztfj5W8/JX5xWcSlf4o49fcRh3zxjnjjBy6InfY7O3Y+4OzY+X0XxJy3LYi/2PGi2GjbK2KDba6Lh25zXcze9uZYe5vbY61tSGIWx6ytlwxPRLfFWlstirW2WhJrb8kvjnWAmTm3xfovXxJ//to74zGvu6u6PnrnJfGonRZXfqNX3R4bvXLIP/KVt8VY/MavvDk22vGm2OCVd8ba290da299azxyqzNi67/5bNwwLEFZRgI4PPWtzgBlyEbkwUoqdpct/1dHvODNV8U6m10Vs+b8KWbNuSMeok22ui1mbc3fPnzN33n1fNGqfiuAooNvCl89Wxyztrmj6gtrbXNHrL3NkkoiN/tlN8fsbW+Jdba5NdbZ5rZYZ5vbY91tbokNXnZzbLTlFfHMHc+MF7/u5PjwsT+P+wiFKkFXwsg1bCjWqtMClBpB2p8tBcZKgZSk2F673XbbVZIR53zkd1byvfSdrHnAAQdUW319j8Xhbfk+r84LEZ+EhaQlz0dx6qgD22zfLUFPWe5Mo3zW3q9KgaFJ2H8WGkNqlNvujfjKKUvi4E/8On569uLKqDTNWAGYO5ZH3P5AxOLlQ4ayVy2JOO13EZ/6xp2x35ELYo+Dz449Dr0wdjnk6tjm3ZfFE199Vmy09Rmx3kvPiofPOTvW2+KcePicc2O9LS+IdedcGGtvcVXM3vrmWPdld8Ts7f4U625/d+Vnb3d39Xvo2b2x7vZN/r5Yd/ve/MO2vzsevv1d8bDt74hH7HBTPGKbs2Ln/X8bh33ytLh1hZXsiPnLqtRafZ6wLrE3S7sBKOfdHLHju6+N9V9yQay/7a3x8K2vjtlzFsTsOefEunPOqa7rzDkn1pnz22Hvnv9drD3n3FX8OnN+H335LX4fD93yvHj4lufHBlucEY/Y4mfxxB1/Hju/d0G84/Ar4m2HXhx7Hrww9jz4wnjrwRfH3odcGHv/03nx7o/+Pv7p2HPj0/PPiStuWn3oP6iStgBlUJRs02kpMEwBwIFqB7DwAa4mx/7E0fLCOG22foCbONQ5jsW3TdlBbUCNI+FtX3Z2CRVRujogqf/OcO11ZQqAJkMgZUhcntIDoYYXq8MRVkCZTEHYoaf5ZAjgsPPg7UO6+p6IU38bccyJi+L9/3xNHPDP18T7j/tjHPS52+OQE+6ND37hwXjNgTfEk3c6PTaY88t46JyzRvzsl5wRszc/I9bZ/PSYvfmZMfslZw5d3Vf+rJi9+dl9+LPiYS89Mx6++f/Ghpt9NzbZ/F/itHOK2g8bYA5RYkWdVsc7tdJ+FFcACsPg750R8aI3/io23vyH8ZzX/jz2mXdTHHj8ovhQ5W+PDx2/qv/g8bfHBz+/aFV//OL44PFLGv2Hjl8Sdf/B4xfHgZ9dFAd+6tY48BNXxGGfuyy+96tlcfO9Qya6gG/plZtXh47tUe98q2NDjVLmFqCMQqD2dUuBXimQoIDqhXHs+uuvH3bglC7DOAjtOc95TgVQHHFftz8Rx0mqCVCOO+64Sp1DLeScEcAnJTNl+u19fxTA41dM0aYCJpUOKRs6G8UUsULp4T1v2ljZZHXoWK5MK8sg7PAsYoPOg8vD1x+WOjV2+EA2K/yb74k486L74ss/vCo+Pv8P8fET/xCf+MplcdxJV8SnvnZlF39VfPrr1/Tsj/v6tfHJr18bnz7p2jj+pIvihK+fHjfeMvTxSTtV1M2fGq8pjhWKiR6dAcazLl4eJ/3gD/Gb826Ju5YNtaJWWtmp/1BbV+fjNOziGTqSb4hevfzPHuNqk5ZTg1e47CdD+Q71vRXvV9yJsfKvFWmsmXctQFkz27Wt1RRQgLqFjQhQwqh16623ro67byoKNZCTYx2S5tRUx9nXne3EdgBtsskm1Xd6fBHWIWY+QtgkcanHb3+PToGhKWGI7Q+x/hVP8uSKoVVsKg1ch/6q1AVPv1J2mc5Q7E4Ti1AmrKl0S5c9OHLGytJ4MJbWZEdTWbZx5V3t1gYfwJQhCLYqqYeASPd8xBqvL3OQZ25sz/wT8A5/LqIIniFWLXsG6vwmQ6yu1xagrK4t15Z72lEAQLHDxpH3viVDktL05WFSFOqbgw46qPL5mXMVSglLVs5R+L7qC5SwR3FuioPb1iSnzvV6T1b9mqadzNu7nBxcyT0SmlRTQj1yRiyvy5YOnW+yPL9TNHyorDAZvwxf3ucJtFQvy6u197D0Zvjesz58Recy36oS0qpuqroBJ2sSQBlqwZz81bVwlUrLu+Hn2R69XoukerodIvNwm+VGcj1K71IG11Vd9sGqWJnGSsEaH64UYnX90QKU1bXl2nJPWwqwE7GTx8mtnZwdOr5WvHjx4o6GruICPc4vcTaINN0PajKXDkAlD+efHHnkkXHqqadWdi6dyj2I5/JL7/Tdk046KebPnx8lUBtEPqtFGmvu3LJakL8t5PSmQAtQpnf7tKWb4RQowUh5PyiySJMty4c//OGYPXt27L///tXXhiciL2UGzNjWOOL/+OOPr07ZdbKtXU8OkJsxbhVg4sEqD2cMOdqKthRookALUJqo0j5rKTCJFJgoMNBLFUgyqKEcoe9jhd/85jcnVIJCqvSNb3wj3vSmN1VfNfaNIefFOEnXybbcVNKjF5pNTJgWoEwMXdtUV2cKtABldW69tuwtBcZBAeAkwcBNN90UdhaRpuSzcSTdMSoj4oULF8YPfvCD6ovFDIQZCpOgOAuGm8j8OxasfdFSoKXAtKNAC1CmXZO0BWopMDkUAATYoNhBNFWg4Ic//GE86UlPiu23334EoExO7dtcWgq0FJjuFGgBynRvobZ8LQUmiAKkJT4+aLfRaaedVhntymoywQqA4ivGpQRlgqrbJttSoKXAakaBFqCsZg3WFrelwHgoAHzwds/MnTu3+gChw+Ce+9znxhFHHDFifyIMyYrzVmyJ5i+//PKR+3xWXp2OywDWlc93ditRJ5UufwMovtLMBiVVPGW49r6lQEuBmUuBFqDM3LZvaz5DKeAAONt6HZf/1a9+NT7/+c9X3wTaeeed49prr62owlbk97//fey3337BkFXYHXfcMXbYYYdVvOf5Lu9dX/GKV4Q0TzjhhGo7tYRTOpMA5Uc/+lErQZmh/bCtdkuB0SjQApTRKNS+bymwhlHgsssui9e//vXVYXLXXHNNBVZ874ckxVkrHCBB8vGd73wnPvOZz1QgBpDp5r/whS+ELy678p/73Oeq3z5uaHtx6eoApZWglNRp71sKtBRAgRagtP2gpcAMo8Cll14aH/rQh+KXv/xl9cFBwMQZKO973/sqo9mSHNQ8JC7pHRSX9+XVc94hdaX3jCFu3eWzH//4x5UEpQUodQq1v1sKtBRoAUrbB1oKzDAKAAdOpiXVYAOy8cYbVx8u/O53vztplCgBChuUbbfdtrVBmTTqtxm1FFg9KNAClNWjndpSthQYCAXSBkRiN954Yxx44IHVl5d32WWXcBYKqQipB8cOhWHs+eefX0laFixY0PHqDJX0Zbjzzjuv8WyVEqDYxUOCcsYZZwykjm0iLQVaCqwZFGgByprRjm0tWgp0pUAJTDLgWWedFc985jPjkY98ZPXV5CVLllQHqFH9cHbkUPsADzvttFO86lWvqoxlGcy6L3+nEW35jqEsI9lvf/vbq3ytOW1QfPvnyU9+cnUOivK0rqVAS4GWAkmBFqAkJdprS4E1mAIlQHEPIAAOj3rUo2KrrbaKSy65pPoWDlDBEJYDUD7+8Y/Hu971ruqbOa777LNP5d/5zndWz1333Xff6kvLru9+97tHvK8vv/e97w12JimVqZM4AYpzUOoSFOUsy12P2/5uKdBSYM2mQAtQ1uz2bWvXUqCiQH2iZ8hq+y/7k1133TXs7LGlmATknHPOGYkjHnUMT+WTnv1KPi+vgE96z++///6VQIb0GN5SLzknZd68ebHRRhvFU57ylDj22GMrUOTsFeVrXUuBlgIzmwItQJnZ7d/WfoZQoA5Q/HZ67DOe8YzYdNNNqw8FbrPNNvG9732vAhWDJkvm72rb8QEHHFDl+exnPzs22GCDWG+99eLpT396vOENb6gkMK26Z9At0KbXUmD1o0ALUFa/NmtL3FKgbwqUACHtP0gqqHMYyu6///7VV4br55X0nVGHCGX+jG4PPfTQSv1z0EEHVSfafuxjH4sPfvCDlc2LLdBATOtaCrQUmNkUmMEAZVksj+XhAG6nNPCOkmq6z2ftdQV9WlpMHS302fTZDmXfzWf1a9nX8z7TWT7MB135fF5PY7y/M/0Hlq/II8uSad+/bKgMwuazXq9Z7qZrr2l0C9eUbvts5bZs6dHSY1B9YAYDlKUBomDs90fEXRFx2wMRi5dGLFkWsWhZxOJlQ/dLlkfcsTzCtemZ52WY/J3PxO3Fl/HK+6a45fv6fcfwWZ+8KlcM+x7L2JR2r8/KcvYaJ8Npk1V8lzKXeZX3mV55rd43pF+FQZ8u+QzqXVlG993SvXN5RHrhhF88fB2pS/m7n3t0EL6BHgN71mt5siy9hke3ZRF3NnjPB1H+Tuk35dk+a26Lli4tXXrtAzMWoEB4gAl/0a0RJ/3P3XHsf9wQx5x8Y8z9xo1xxDdviY/xJ6e/NT52Ml//veK5OEeeXHi/e/Un37py3JF0bl2Rxsk3xZEj/uY48uROXrhO7xqef7Ph2Wjxq3opW4++ql/Wcfg6Km2G675S3E5lXY1pgw4j7T16n5n7zVuC17eOOHmFH+qb2R9Hu4o3Wpjp8N54u7lnr9/P++aq/oiOaUi/t3qi15F8Q5+f+81bY17Ne9YUtn3W0qXtA731gRkNUO6LIUnJv//n4th73nnxliMWxJ5zL4o9j/pD7HHUJbH70ZfFrkfxl/bsd5l3aaTvJ16/YTOP+nVs6VwSu87rvY795rG6hh+i7SVVe050Hcp2HDUvbTXcXrscdWnw1e+2DatxuttRl0bdN9M0x/flsetRvfnd5l0eu9e8Z61vadD2gcH3gRkPUG64L+KQL10Xuxx+aex+1DXxlqOujD2Pujz2mPeH2P3oy2O3o6/o2e96zBUxcf7K2PXoq8buj7kqdjl6yO96zDjSyTIcc+UE1rUbHQdQ9qxDXlcz2uxyzBXBZ1/rp4+ufmGvjN2Ovqpn32mM9JNGt7B7HH1V7HHUyn737EcN125pte96b9eWVjOTVjMeoNy0NOLDX7w+dpt7dbzlqGti98PPi3ccdW7sM+/M2PvI02Mvfm6P/sgzY6/p5OeeEXsN+73VJ33xPN/3f+2RJkm7I8/ojzZVGTvlsaJeI+Xul+4FDUboMkyfkTSLMP0961TuTs/7o83b5p4ZvL62d+nnnhF7zxvyQ+XN/NAr71eza9lv5p4Ve887e4Wfe1ZDn2roG53asUy7x/7z9iPPjLrXBtNq3LfladtjDekD/x/HiCNysWCVoAAAAABJRU5ErkJggg==)"
      ]
    },
    {
      "cell_type": "code",
      "metadata": {
        "id": "OeITu-LdcMwJ",
        "colab_type": "code",
        "colab": {}
      },
      "source": [
        "cost = tf.reduce_mean(tf.square(hypothesis - y_train))"
      ],
      "execution_count": 0,
      "outputs": []
    },
    {
      "cell_type": "markdown",
      "metadata": {
        "id": "0BL49WYrcd-C",
        "colab_type": "text"
      },
      "source": [
        "**GradientDescent**\n",
        "\n",
        "cost를 최소화하는 과정"
      ]
    },
    {
      "cell_type": "code",
      "metadata": {
        "id": "d62MlkQEcjc2",
        "colab_type": "code",
        "colab": {}
      },
      "source": [
        "optimizer = tf.train.GradientDescentOptimizer(learning_rate=0.01)\n",
        "train = optimizer.minimize(cost)"
      ],
      "execution_count": 0,
      "outputs": []
    },
    {
      "cell_type": "markdown",
      "metadata": {
        "id": "nNJWFOCKcvxq",
        "colab_type": "text"
      },
      "source": [
        "세션만들고 실행하기"
      ]
    },
    {
      "cell_type": "code",
      "metadata": {
        "id": "myDDMd8zcw8E",
        "colab_type": "code",
        "colab": {
          "base_uri": "https://localhost:8080/",
          "height": 409
        },
        "outputId": "dff7aef3-43b8-4fef-dfe2-3cd2af0cc6a1"
      },
      "source": [
        "sess = tf.Session()\n",
        "sess.run(tf.global_variables_initializer())\n",
        "\n",
        "for step in range(2001):\n",
        "  sess.run(train)\n",
        "  if step % 100 == 0:\n",
        "    print(step, sess.run(cost), sess.run(W), sess.run(b))"
      ],
      "execution_count": 12,
      "outputs": [
        {
          "output_type": "stream",
          "text": [
            "0 6.5223274 [0.35125095] [-1.20085]\n",
            "100 0.05215466 [1.2652344] [-0.6029612]\n",
            "200 0.03222841 [1.2085046] [-0.47397986]\n",
            "300 0.019915214 [1.1639037] [-0.37259138]\n",
            "400 0.012306388 [1.1288432] [-0.29289076]\n",
            "500 0.00760463 [1.1012827] [-0.23023903]\n",
            "600 0.0046991813 [1.0796171] [-0.18098867]\n",
            "700 0.0029038072 [1.0625865] [-0.14227359]\n",
            "800 0.0017943826 [1.0491986] [-0.11184009]\n",
            "900 0.0011088172 [1.0386745] [-0.08791651]\n",
            "1000 0.0006851787 [1.0304017] [-0.06911033]\n",
            "1100 0.00042340052 [1.0238986] [-0.05432705]\n",
            "1200 0.00026163834 [1.0187864] [-0.04270625]\n",
            "1300 0.00016167674 [1.0147679] [-0.03357096]\n",
            "1400 9.9906865e-05 [1.011609] [-0.02638993]\n",
            "1500 6.1736006e-05 [1.0091257] [-0.02074485]\n",
            "1600 3.8149534e-05 [1.0071738] [-0.01630734]\n",
            "1700 2.3574312e-05 [1.0056392] [-0.01281907]\n",
            "1800 1.4567424e-05 [1.0044329] [-0.01007702]\n",
            "1900 9.00221e-06 [1.0034847] [-0.00792152]\n",
            "2000 5.562802e-06 [1.0027394] [-0.00622716]\n"
          ],
          "name": "stdout"
        }
      ]
    },
    {
      "cell_type": "markdown",
      "metadata": {
        "id": "ILEcS-LcfN0I",
        "colab_type": "text"
      },
      "source": [
        "위에 코드를 보면 H(x) = 1x + 0 에 수렴해야 되므로\n",
        "\n",
        "W가 1로 수렴 b가 0에 수렴하는것을 볼수있다.\n",
        "\n",
        " 그리고 cost도 작아지고있다."
      ]
    },
    {
      "cell_type": "code",
      "metadata": {
        "id": "VOP-s2YweNqm",
        "colab_type": "code",
        "colab": {
          "base_uri": "https://localhost:8080/",
          "height": 409
        },
        "outputId": "09cac975-25a0-4c1e-b3aa-9d15d8a5e976"
      },
      "source": [
        "X = tf.placeholder(tf.float32, shape=[None])\n",
        "Y = tf.placeholder(tf.float32, shape=[None])\n",
        "\n",
        "# H(x) = Wx + b\n",
        "hypothesis = X * W + b\n",
        "\n",
        "#reduce_mean = 평균을 내는 함수\n",
        "cost = tf.reduce_mean(tf.square(hypothesis - Y))\n",
        "\n",
        "# 지금은 마법이라고 생각하기\n",
        "optimizer = tf.train.GradientDescentOptimizer(learning_rate=0.01)\n",
        "train = optimizer.minimize(cost) # 코스트를 작게하도록 train !\n",
        "\n",
        "for step in range(2001):\n",
        "  cost_val, W_val, b_val, _ = sess.run([cost,W,b,train], feed_dict={X: [1,2,3,4,5], Y:[2.1, 3.1, 4.1, 5.1, 6.1]})\n",
        "\n",
        "  if step % 100 == 0 :\n",
        "    print(step, cost_val, W_val, b_val)"
      ],
      "execution_count": 14,
      "outputs": [
        {
          "output_type": "stream",
          "text": [
            "0 1.2099638 [1.0660205] [0.02194883]\n",
            "100 0.09651035 [1.2010083] [0.37429598]\n",
            "200 0.04902408 [1.1432623] [0.5827775]\n",
            "300 0.02490268 [1.1021057] [0.73136586]\n",
            "400 0.012649739 [1.0727726] [0.83726776]\n",
            "500 0.006425659 [1.0518664] [0.9127459]\n",
            "600 0.0032640342 [1.0369662] [0.9665404]\n",
            "700 0.001658023 [1.0263464] [1.0048809]\n",
            "800 0.00084221817 [1.0187776] [1.0322069]\n",
            "900 0.00042781598 [1.013383] [1.0516828]\n",
            "1000 0.00021731055 [1.0095382] [1.0655639]\n",
            "1100 0.00011038957 [1.0067981] [1.0754564]\n",
            "1200 5.607312e-05 [1.0048451] [1.0825075]\n",
            "1300 2.8482795e-05 [1.0034533] [1.0875326]\n",
            "1400 1.4467101e-05 [1.0024611] [1.091115]\n",
            "1500 7.348368e-06 [1.001754] [1.0936674]\n",
            "1600 3.7319792e-06 [1.00125] [1.0954869]\n",
            "1700 1.8962932e-06 [1.0008911] [1.0967832]\n",
            "1800 9.635044e-07 [1.0006353] [1.0977069]\n",
            "1900 4.8949414e-07 [1.0004529] [1.0983654]\n",
            "2000 2.4888877e-07 [1.0003228] [1.0988345]\n"
          ],
          "name": "stdout"
        }
      ]
    },
    {
      "cell_type": "markdown",
      "metadata": {
        "id": "fPYetSDnfccL",
        "colab_type": "text"
      },
      "source": [
        "요기서도 H(x)= x + 0.1 에 수렴해야되므로\n",
        "\n",
        "W는 1, b = 0.1에 수렴하는것을 볼수 있다.\n",
        "\n",
        "아래에서 우리의 model을 test 해보자"
      ]
    },
    {
      "cell_type": "code",
      "metadata": {
        "id": "cpJXZL6NgLzc",
        "colab_type": "code",
        "colab": {
          "base_uri": "https://localhost:8080/",
          "height": 73
        },
        "outputId": "dc2fb387-f838-45fc-f56e-bf7663e93a39"
      },
      "source": [
        "print(sess.run(hypothesis, feed_dict={X:[5]}))\n",
        "print(sess.run(hypothesis, feed_dict={X:[2.5]}))\n",
        "print(sess.run(hypothesis, feed_dict={X:[2.5, 3.5]}))"
      ],
      "execution_count": 16,
      "outputs": [
        {
          "output_type": "stream",
          "text": [
            "[6.1004486]\n",
            "[3.5996416]\n",
            "[3.5996416 4.599964 ]\n"
          ],
          "name": "stdout"
        }
      ]
    }
  ]
}