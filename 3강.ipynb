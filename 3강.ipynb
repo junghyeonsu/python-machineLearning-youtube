{
  "nbformat": 4,
  "nbformat_minor": 0,
  "metadata": {
    "colab": {
      "name": "3강",
      "provenance": [],
      "collapsed_sections": [],
      "authorship_tag": "ABX9TyPxybS/mnwioZLoYFLtWRDr",
      "include_colab_link": true
    },
    "kernelspec": {
      "name": "python3",
      "display_name": "Python 3"
    }
  },
  "cells": [
    {
      "cell_type": "markdown",
      "metadata": {
        "id": "view-in-github",
        "colab_type": "text"
      },
      "source": [
        "<a href=\"https://colab.research.google.com/github/junghyeonsu/python-machineLearning-youtube/blob/master/3%EA%B0%95.ipynb\" target=\"_parent\"><img src=\"https://colab.research.google.com/assets/colab-badge.svg\" alt=\"Open In Colab\"/></a>"
      ]
    },
    {
      "cell_type": "markdown",
      "metadata": {
        "id": "t3h56KCEHpS7",
        "colab_type": "text"
      },
      "source": [
        "**텐서플로우 2.0 버전부터는 저렇게 작성해주어야 작동한다.**"
      ]
    },
    {
      "cell_type": "code",
      "metadata": {
        "colab_type": "code",
        "id": "RdQpgDIJAdsm",
        "colab": {}
      },
      "source": [
        "import tensorflow.compat.v1 as tf\n",
        "tf.disable_resource_variables()"
      ],
      "execution_count": 0,
      "outputs": []
    },
    {
      "cell_type": "markdown",
      "metadata": {
        "id": "PP6uc_VWMe4f",
        "colab_type": "text"
      },
      "source": [
        "간단한 hello 띄우는 문법"
      ]
    },
    {
      "cell_type": "code",
      "metadata": {
        "id": "ACpo6kG5HwEZ",
        "colab_type": "code",
        "colab": {
          "base_uri": "https://localhost:8080/",
          "height": 36
        },
        "outputId": "c9b6962f-52cb-4973-b285-491b939d5443"
      },
      "source": [
        "hello = tf.constant(\"hello\")\n",
        "sess = tf.Session()\n",
        "\n",
        "print(sess.run(hello))"
      ],
      "execution_count": 9,
      "outputs": [
        {
          "output_type": "stream",
          "text": [
            "b'hello'\n"
          ],
          "name": "stdout"
        }
      ]
    },
    {
      "cell_type": "markdown",
      "metadata": {
        "id": "cXHrrMQzNByL",
        "colab_type": "text"
      },
      "source": [
        "그냥 tf.constant 만들면 그냥 tensor 라고만 인식한다.\n",
        "\n",
        "이 과정들은 graph를 build 하는 과정이다."
      ]
    },
    {
      "cell_type": "code",
      "metadata": {
        "id": "qmqnKNR__6Wd",
        "colab_type": "code",
        "colab": {
          "base_uri": "https://localhost:8080/",
          "height": 55
        },
        "outputId": "c9077b97-47a5-47ef-d95f-d0c4e03a2af9"
      },
      "source": [
        "node1 = tf.constant(3.0, tf.float32)\n",
        "node2 = tf.constant(4.0)\n",
        "node3 = tf.add(node1, node2) # node3 = node1 + node2\n",
        "print(\"node1: \", node1 , \"node2:\", node2)\n",
        "print(\"node3:\" , node3)"
      ],
      "execution_count": 12,
      "outputs": [
        {
          "output_type": "stream",
          "text": [
            "node1:  Tensor(\"Const_10:0\", shape=(), dtype=float32) node2: Tensor(\"Const_11:0\", shape=(), dtype=float32)\n",
            "node3: Tensor(\"Add_2:0\", shape=(), dtype=float32)\n"
          ],
          "name": "stdout"
        }
      ]
    },
    {
      "cell_type": "markdown",
      "metadata": {
        "id": "dq-0Xud1NIih",
        "colab_type": "text"
      },
      "source": [
        "이거를 진짜로 인식하게 하려면 Session을 \n",
        "\n",
        "만들고 run이라는 함수를 통해서 실행을 해줘야한다."
      ]
    },
    {
      "cell_type": "code",
      "metadata": {
        "id": "aPe4oiBiNHjg",
        "colab_type": "code",
        "colab": {
          "base_uri": "https://localhost:8080/",
          "height": 55
        },
        "outputId": "c41026a3-4d47-40f5-85c4-55dfab69bde9"
      },
      "source": [
        "sess = tf.Session()\n",
        "print(\"sess.run(node1,node2):\", sess.run([node1,node2]))\n",
        "print(\"sess.run(node3):\", sess.run(node3))"
      ],
      "execution_count": 13,
      "outputs": [
        {
          "output_type": "stream",
          "text": [
            "sess.run(node1,node2): [3.0, 4.0]\n",
            "sess.run(node3): 7.0\n"
          ],
          "name": "stdout"
        }
      ]
    },
    {
      "cell_type": "markdown",
      "metadata": {
        "id": "6HLjcLMmOI6A",
        "colab_type": "text"
      },
      "source": [
        "우리가 node 자리에 맨처음에 값을 주지않고 그냥 빈 자리로 놔두고\n",
        "\n",
        "run 해줄때 값을 넣어주고싶으면 placeholder를 쓰면된다!\n",
        "\n",
        "그리고 값을 넣어줄때에는 `feed_dict()` 함수를 통해 넣어준다."
      ]
    },
    {
      "cell_type": "code",
      "metadata": {
        "id": "Oo3UAb1zOGDL",
        "colab_type": "code",
        "colab": {
          "base_uri": "https://localhost:8080/",
          "height": 55
        },
        "outputId": "ca46a1b4-658a-4c94-84fe-08222d119e8f"
      },
      "source": [
        "a = tf.placeholder(tf.float32)\n",
        "b = tf.placeholder(tf.float32)\n",
        "adder_node = a + b\n",
        "\n",
        "print(sess.run(adder_node, feed_dict={a:3 , b:4.5}))\n",
        "print(sess.run(adder_node, feed_dict={a: [1,3] , b:[2,4]}))"
      ],
      "execution_count": 15,
      "outputs": [
        {
          "output_type": "stream",
          "text": [
            "7.5\n",
            "[3. 7.]\n"
          ],
          "name": "stdout"
        }
      ]
    }
  ]
}