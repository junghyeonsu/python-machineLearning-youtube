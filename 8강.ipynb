{
  "nbformat": 4,
  "nbformat_minor": 0,
  "metadata": {
    "colab": {
      "name": "8강.ipynb",
      "provenance": [],
      "authorship_tag": "ABX9TyOajYjCDMq9X346BUwHrNcK",
      "include_colab_link": true
    },
    "kernelspec": {
      "name": "python3",
      "display_name": "Python 3"
    }
  },
  "cells": [
    {
      "cell_type": "markdown",
      "metadata": {
        "id": "view-in-github",
        "colab_type": "text"
      },
      "source": [
        "<a href=\"https://colab.research.google.com/github/junghyeonsu/python-machineLearning-youtube/blob/master/8%EA%B0%95.ipynb\" target=\"_parent\"><img src=\"https://colab.research.google.com/assets/colab-badge.svg\" alt=\"Open In Colab\"/></a>"
      ]
    },
    {
      "cell_type": "markdown",
      "metadata": {
        "id": "VDpMNVGI4mEI",
        "colab_type": "text"
      },
      "source": [
        "\n",
        "**Multi-variable linear regression**\n",
        "\n",
        "---\n",
        "\n",
        "우리가 알고있는 linear regression 은 하나의 입력값과 하나의 출력값을 가진다.\n",
        "\n",
        "`H(x) = Wx + b` 이런식으로 되는데 만약에 입력값이 여러개이면 어떻게될까?\n",
        "\n",
        "이런 경우에는 행렬로 처리하는것이 편하다.\n",
        "\n",
        "`H(X) = XW` 로 H(X)는 보통 주어지고(입력값) X 도 보통은 주어진다.(출력값)\n",
        "\n",
        "그러면 W의 행렬은 어떻게 아는걸까? 그건 입력값과 출력값을 보고 결정한다.\n",
        "\n",
        "입력값의 instance (실제값) 말고 입력값의 지표들 예를 들자면\n",
        "\n",
        "학생의 성적을 예측한다고할때, 공부시간 이 외에도 집과의 거리? 같은 지표들도\n",
        "\n",
        "성적에 영향을 줄수있다! 이럴때에 Multi-variable 을 사용하는데\n",
        "\n",
        "입력 행렬은 `(instance 개수 , 지표 개수)` 가되고\n",
        "\n",
        "출력 행렬은 성적만 알고싶다 그러면 출력값이 하나가 되므로 \n",
        "\n",
        "`(instance 개수 , 1 )` 이 된다.\n",
        "\n",
        "그러면 W 행렬은 입력행렬의 `( 지표개수 , )` 그리고 \n",
        "\n",
        "출력행렬의 `( , 1 )` 이 합쳐져서 `( 지표개수 , 1 )` 행렬이라는것을 알수있다.\n",
        "\n",
        "\n",
        "\n"
      ]
    }
  ]
}